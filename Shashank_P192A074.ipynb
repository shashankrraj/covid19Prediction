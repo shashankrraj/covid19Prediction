{
  "nbformat": 4,
  "nbformat_minor": 0,
  "metadata": {
    "colab": {
      "name": "Shashank_P192A074.ipynb",
      "provenance": [],
      "collapsed_sections": [],
      "toc_visible": true
    },
    "kernelspec": {
      "name": "python3",
      "display_name": "Python 3"
    }
  },
  "cells": [
    {
      "cell_type": "markdown",
      "metadata": {
        "id": "k4nqE-K8zsXC",
        "colab_type": "text"
      },
      "source": [
        "# Covid-19 Virus Data Prediction\n",
        "\n",
        "<div>\n",
        "<img src=\"https://cdn.pixabay.com/photo/2020/03/09/14/11/virus-4915859_1280.png\" width=\"800\" height=\"300\"/>\n",
        "</div>\n",
        "\n",
        "## Author : Shashank Raj\n"
      ]
    },
    {
      "cell_type": "code",
      "metadata": {
        "id": "B6xnPyQHT3ff",
        "colab_type": "code",
        "colab": {}
      },
      "source": [
        "import numpy as np\n",
        "import pandas as pd\n",
        "import matplotlib.pyplot as plt\n",
        "import seaborn as sns\n",
        "from datetime import datetime"
      ],
      "execution_count": 0,
      "outputs": []
    },
    {
      "cell_type": "code",
      "metadata": {
        "id": "fiVS8my3U2jE",
        "colab_type": "code",
        "colab": {
          "base_uri": "https://localhost:8080/",
          "height": 195
        },
        "outputId": "abd9b6c2-0fce-49c6-c5de-e5774394b569"
      },
      "source": [
        "train = pd.read_csv('https://raw.githubusercontent.com/datasets/covid-19/master/data/time-series-19-covid-combined.csv')\n",
        "train.head()"
      ],
      "execution_count": 2,
      "outputs": [
        {
          "output_type": "execute_result",
          "data": {
            "text/html": [
              "<div>\n",
              "<style scoped>\n",
              "    .dataframe tbody tr th:only-of-type {\n",
              "        vertical-align: middle;\n",
              "    }\n",
              "\n",
              "    .dataframe tbody tr th {\n",
              "        vertical-align: top;\n",
              "    }\n",
              "\n",
              "    .dataframe thead th {\n",
              "        text-align: right;\n",
              "    }\n",
              "</style>\n",
              "<table border=\"1\" class=\"dataframe\">\n",
              "  <thead>\n",
              "    <tr style=\"text-align: right;\">\n",
              "      <th></th>\n",
              "      <th>Date</th>\n",
              "      <th>Country/Region</th>\n",
              "      <th>Province/State</th>\n",
              "      <th>Lat</th>\n",
              "      <th>Long</th>\n",
              "      <th>Confirmed</th>\n",
              "      <th>Recovered</th>\n",
              "      <th>Deaths</th>\n",
              "    </tr>\n",
              "  </thead>\n",
              "  <tbody>\n",
              "    <tr>\n",
              "      <th>0</th>\n",
              "      <td>2020-01-22</td>\n",
              "      <td>Afghanistan</td>\n",
              "      <td>NaN</td>\n",
              "      <td>33.0</td>\n",
              "      <td>65.0</td>\n",
              "      <td>0.0</td>\n",
              "      <td>0.0</td>\n",
              "      <td>0.0</td>\n",
              "    </tr>\n",
              "    <tr>\n",
              "      <th>1</th>\n",
              "      <td>2020-01-23</td>\n",
              "      <td>Afghanistan</td>\n",
              "      <td>NaN</td>\n",
              "      <td>33.0</td>\n",
              "      <td>65.0</td>\n",
              "      <td>0.0</td>\n",
              "      <td>0.0</td>\n",
              "      <td>0.0</td>\n",
              "    </tr>\n",
              "    <tr>\n",
              "      <th>2</th>\n",
              "      <td>2020-01-24</td>\n",
              "      <td>Afghanistan</td>\n",
              "      <td>NaN</td>\n",
              "      <td>33.0</td>\n",
              "      <td>65.0</td>\n",
              "      <td>0.0</td>\n",
              "      <td>0.0</td>\n",
              "      <td>0.0</td>\n",
              "    </tr>\n",
              "    <tr>\n",
              "      <th>3</th>\n",
              "      <td>2020-01-25</td>\n",
              "      <td>Afghanistan</td>\n",
              "      <td>NaN</td>\n",
              "      <td>33.0</td>\n",
              "      <td>65.0</td>\n",
              "      <td>0.0</td>\n",
              "      <td>0.0</td>\n",
              "      <td>0.0</td>\n",
              "    </tr>\n",
              "    <tr>\n",
              "      <th>4</th>\n",
              "      <td>2020-01-26</td>\n",
              "      <td>Afghanistan</td>\n",
              "      <td>NaN</td>\n",
              "      <td>33.0</td>\n",
              "      <td>65.0</td>\n",
              "      <td>0.0</td>\n",
              "      <td>0.0</td>\n",
              "      <td>0.0</td>\n",
              "    </tr>\n",
              "  </tbody>\n",
              "</table>\n",
              "</div>"
            ],
            "text/plain": [
              "         Date Country/Region Province/State  ...  Confirmed  Recovered  Deaths\n",
              "0  2020-01-22    Afghanistan            NaN  ...        0.0        0.0     0.0\n",
              "1  2020-01-23    Afghanistan            NaN  ...        0.0        0.0     0.0\n",
              "2  2020-01-24    Afghanistan            NaN  ...        0.0        0.0     0.0\n",
              "3  2020-01-25    Afghanistan            NaN  ...        0.0        0.0     0.0\n",
              "4  2020-01-26    Afghanistan            NaN  ...        0.0        0.0     0.0\n",
              "\n",
              "[5 rows x 8 columns]"
            ]
          },
          "metadata": {
            "tags": []
          },
          "execution_count": 2
        }
      ]
    },
    {
      "cell_type": "code",
      "metadata": {
        "id": "IKjOVsVRVFz9",
        "colab_type": "code",
        "outputId": "69c13ac7-b552-4bd6-b8ad-4c543c7dd836",
        "colab": {
          "base_uri": "https://localhost:8080/",
          "height": 235
        }
      },
      "source": [
        "train.info()"
      ],
      "execution_count": 3,
      "outputs": [
        {
          "output_type": "stream",
          "text": [
            "<class 'pandas.core.frame.DataFrame'>\n",
            "RangeIndex: 16951 entries, 0 to 16950\n",
            "Data columns (total 8 columns):\n",
            "Date              16951 non-null object\n",
            "Country/Region    16951 non-null object\n",
            "Province/State    5293 non-null object\n",
            "Lat               16951 non-null float64\n",
            "Long              16951 non-null float64\n",
            "Confirmed         16884 non-null float64\n",
            "Recovered         16013 non-null float64\n",
            "Deaths            16884 non-null float64\n",
            "dtypes: float64(5), object(3)\n",
            "memory usage: 1.0+ MB\n"
          ],
          "name": "stdout"
        }
      ]
    },
    {
      "cell_type": "code",
      "metadata": {
        "id": "6sBYvo4bVHMx",
        "colab_type": "code",
        "colab": {}
      },
      "source": [
        "train.rename(columns = {\"Province/State\": \"state\", \"Country/Region\":\"country\"}, inplace = True) "
      ],
      "execution_count": 0,
      "outputs": []
    },
    {
      "cell_type": "code",
      "metadata": {
        "id": "M_nJeFBXVj87",
        "colab_type": "code",
        "colab": {}
      },
      "source": [
        "train.drop('Lat', axis = 1, inplace = True)\n",
        "train.drop('Long', axis = 1, inplace = True)\n",
        "train.drop('Recovered', axis = 1, inplace = True)"
      ],
      "execution_count": 0,
      "outputs": []
    },
    {
      "cell_type": "markdown",
      "metadata": {
        "id": "BMjUry8ezft9",
        "colab_type": "text"
      },
      "source": [
        "# Dealing with NaN values and changing them to \"Not Available\""
      ]
    },
    {
      "cell_type": "code",
      "metadata": {
        "id": "BggnZla9b9Gh",
        "colab_type": "code",
        "outputId": "be420d36-8278-4a84-91a8-c5ac54c9c07a",
        "colab": {
          "base_uri": "https://localhost:8080/",
          "height": 118
        }
      },
      "source": [
        "train.isnull().sum()"
      ],
      "execution_count": 6,
      "outputs": [
        {
          "output_type": "execute_result",
          "data": {
            "text/plain": [
              "Date             0\n",
              "country          0\n",
              "state        11658\n",
              "Confirmed       67\n",
              "Deaths          67\n",
              "dtype: int64"
            ]
          },
          "metadata": {
            "tags": []
          },
          "execution_count": 6
        }
      ]
    },
    {
      "cell_type": "code",
      "metadata": {
        "id": "K_GLtsBrcfk2",
        "colab_type": "code",
        "colab": {}
      },
      "source": [
        "\n",
        "train.state = train.state.fillna('Not Available')"
      ],
      "execution_count": 0,
      "outputs": []
    },
    {
      "cell_type": "code",
      "metadata": {
        "id": "AmsTQ8lTc7EI",
        "colab_type": "code",
        "outputId": "fdb17731-a907-429c-c0d2-627fc296c96f",
        "colab": {
          "base_uri": "https://localhost:8080/",
          "height": 118
        }
      },
      "source": [
        "train.isnull().sum()"
      ],
      "execution_count": 8,
      "outputs": [
        {
          "output_type": "execute_result",
          "data": {
            "text/plain": [
              "Date          0\n",
              "country       0\n",
              "state         0\n",
              "Confirmed    67\n",
              "Deaths       67\n",
              "dtype: int64"
            ]
          },
          "metadata": {
            "tags": []
          },
          "execution_count": 8
        }
      ]
    },
    {
      "cell_type": "markdown",
      "metadata": {
        "id": "FqcGh5rHxEbB",
        "colab_type": "text"
      },
      "source": [
        "#Creating a dataframe with latest data\n",
        "##We group all countries together and remove the provinces altogether to get the latest aggregate count of victims.  "
      ]
    },
    {
      "cell_type": "code",
      "metadata": {
        "id": "_9O1YlXtdGJb",
        "colab_type": "code",
        "colab": {
          "base_uri": "https://localhost:8080/",
          "height": 195
        },
        "outputId": "6aa79af7-26d9-48c0-c14c-277e9eb4703b"
      },
      "source": [
        "train_new = train[train.Date == train.Date.max()].groupby(by='country')\n",
        "train_new = train_new.aggregate(np.sum)\n",
        "train_new.reset_index(level=0, inplace=True)\n",
        "train_new.head()"
      ],
      "execution_count": 9,
      "outputs": [
        {
          "output_type": "execute_result",
          "data": {
            "text/html": [
              "<div>\n",
              "<style scoped>\n",
              "    .dataframe tbody tr th:only-of-type {\n",
              "        vertical-align: middle;\n",
              "    }\n",
              "\n",
              "    .dataframe tbody tr th {\n",
              "        vertical-align: top;\n",
              "    }\n",
              "\n",
              "    .dataframe thead th {\n",
              "        text-align: right;\n",
              "    }\n",
              "</style>\n",
              "<table border=\"1\" class=\"dataframe\">\n",
              "  <thead>\n",
              "    <tr style=\"text-align: right;\">\n",
              "      <th></th>\n",
              "      <th>country</th>\n",
              "      <th>Confirmed</th>\n",
              "      <th>Deaths</th>\n",
              "    </tr>\n",
              "  </thead>\n",
              "  <tbody>\n",
              "    <tr>\n",
              "      <th>0</th>\n",
              "      <td>Afghanistan</td>\n",
              "      <td>110.0</td>\n",
              "      <td>4.0</td>\n",
              "    </tr>\n",
              "    <tr>\n",
              "      <th>1</th>\n",
              "      <td>Albania</td>\n",
              "      <td>197.0</td>\n",
              "      <td>10.0</td>\n",
              "    </tr>\n",
              "    <tr>\n",
              "      <th>2</th>\n",
              "      <td>Algeria</td>\n",
              "      <td>454.0</td>\n",
              "      <td>29.0</td>\n",
              "    </tr>\n",
              "    <tr>\n",
              "      <th>3</th>\n",
              "      <td>Andorra</td>\n",
              "      <td>308.0</td>\n",
              "      <td>3.0</td>\n",
              "    </tr>\n",
              "    <tr>\n",
              "      <th>4</th>\n",
              "      <td>Angola</td>\n",
              "      <td>5.0</td>\n",
              "      <td>0.0</td>\n",
              "    </tr>\n",
              "  </tbody>\n",
              "</table>\n",
              "</div>"
            ],
            "text/plain": [
              "       country  Confirmed  Deaths\n",
              "0  Afghanistan      110.0     4.0\n",
              "1      Albania      197.0    10.0\n",
              "2      Algeria      454.0    29.0\n",
              "3      Andorra      308.0     3.0\n",
              "4       Angola        5.0     0.0"
            ]
          },
          "metadata": {
            "tags": []
          },
          "execution_count": 9
        }
      ]
    },
    {
      "cell_type": "code",
      "metadata": {
        "id": "APiWITsPwf1V",
        "colab_type": "code",
        "outputId": "93b8fca5-d08a-4e66-de03-217ac589c3b4",
        "colab": {
          "base_uri": "https://localhost:8080/",
          "height": 77
        }
      },
      "source": [
        "#check if the new data has correct values for countries that initially had provinces.\n",
        "train_new[train_new.country == 'US']\n"
      ],
      "execution_count": 10,
      "outputs": [
        {
          "output_type": "execute_result",
          "data": {
            "text/html": [
              "<div>\n",
              "<style scoped>\n",
              "    .dataframe tbody tr th:only-of-type {\n",
              "        vertical-align: middle;\n",
              "    }\n",
              "\n",
              "    .dataframe tbody tr th {\n",
              "        vertical-align: top;\n",
              "    }\n",
              "\n",
              "    .dataframe thead th {\n",
              "        text-align: right;\n",
              "    }\n",
              "</style>\n",
              "<table border=\"1\" class=\"dataframe\">\n",
              "  <thead>\n",
              "    <tr style=\"text-align: right;\">\n",
              "      <th></th>\n",
              "      <th>country</th>\n",
              "      <th>Confirmed</th>\n",
              "      <th>Deaths</th>\n",
              "    </tr>\n",
              "  </thead>\n",
              "  <tbody>\n",
              "    <tr>\n",
              "      <th>165</th>\n",
              "      <td>US</td>\n",
              "      <td>121478.0</td>\n",
              "      <td>2026.0</td>\n",
              "    </tr>\n",
              "  </tbody>\n",
              "</table>\n",
              "</div>"
            ],
            "text/plain": [
              "    country  Confirmed  Deaths\n",
              "165      US   121478.0  2026.0"
            ]
          },
          "metadata": {
            "tags": []
          },
          "execution_count": 10
        }
      ]
    },
    {
      "cell_type": "code",
      "metadata": {
        "id": "MWOWjsb7VlIi",
        "colab_type": "code",
        "outputId": "a6a79456-b0e0-4a25-9ac1-b6f089514385",
        "colab": {
          "base_uri": "https://localhost:8080/",
          "height": 786
        }
      },
      "source": [
        "plt.figure(figsize=(13,13))\n",
        "sns.barplot(x = 'country', y = 'Confirmed', data = train_new[train_new.Confirmed > 5000])"
      ],
      "execution_count": 11,
      "outputs": [
        {
          "output_type": "execute_result",
          "data": {
            "text/plain": [
              "<matplotlib.axes._subplots.AxesSubplot at 0x7f5ec5b94c88>"
            ]
          },
          "metadata": {
            "tags": []
          },
          "execution_count": 11
        },
        {
          "output_type": "display_data",
          "data": {
            "image/png": "[encoded data removed]",
            "text/plain": [
              "<Figure size 936x936 with 1 Axes>"
            ]
          },
          "metadata": {
            "tags": []
          }
        }
      ]
    },
    {
      "cell_type": "markdown",
      "metadata": {
        "id": "VTOlGpss0d9i",
        "colab_type": "text"
      },
      "source": [
        "# Change of plans\n",
        "## Lets group by on the basis of date"
      ]
    },
    {
      "cell_type": "code",
      "metadata": {
        "id": "_HkvHc8q1G5D",
        "colab_type": "code",
        "outputId": "657fc267-8673-40d0-8a66-8e3550e96ee1",
        "colab": {
          "base_uri": "https://localhost:8080/",
          "height": 195
        }
      },
      "source": [
        "train_n2 = train.drop(['state'],axis=1)\n",
        "train_n2.head()"
      ],
      "execution_count": 12,
      "outputs": [
        {
          "output_type": "execute_result",
          "data": {
            "text/html": [
              "<div>\n",
              "<style scoped>\n",
              "    .dataframe tbody tr th:only-of-type {\n",
              "        vertical-align: middle;\n",
              "    }\n",
              "\n",
              "    .dataframe tbody tr th {\n",
              "        vertical-align: top;\n",
              "    }\n",
              "\n",
              "    .dataframe thead th {\n",
              "        text-align: right;\n",
              "    }\n",
              "</style>\n",
              "<table border=\"1\" class=\"dataframe\">\n",
              "  <thead>\n",
              "    <tr style=\"text-align: right;\">\n",
              "      <th></th>\n",
              "      <th>Date</th>\n",
              "      <th>country</th>\n",
              "      <th>Confirmed</th>\n",
              "      <th>Deaths</th>\n",
              "    </tr>\n",
              "  </thead>\n",
              "  <tbody>\n",
              "    <tr>\n",
              "      <th>0</th>\n",
              "      <td>2020-01-22</td>\n",
              "      <td>Afghanistan</td>\n",
              "      <td>0.0</td>\n",
              "      <td>0.0</td>\n",
              "    </tr>\n",
              "    <tr>\n",
              "      <th>1</th>\n",
              "      <td>2020-01-23</td>\n",
              "      <td>Afghanistan</td>\n",
              "      <td>0.0</td>\n",
              "      <td>0.0</td>\n",
              "    </tr>\n",
              "    <tr>\n",
              "      <th>2</th>\n",
              "      <td>2020-01-24</td>\n",
              "      <td>Afghanistan</td>\n",
              "      <td>0.0</td>\n",
              "      <td>0.0</td>\n",
              "    </tr>\n",
              "    <tr>\n",
              "      <th>3</th>\n",
              "      <td>2020-01-25</td>\n",
              "      <td>Afghanistan</td>\n",
              "      <td>0.0</td>\n",
              "      <td>0.0</td>\n",
              "    </tr>\n",
              "    <tr>\n",
              "      <th>4</th>\n",
              "      <td>2020-01-26</td>\n",
              "      <td>Afghanistan</td>\n",
              "      <td>0.0</td>\n",
              "      <td>0.0</td>\n",
              "    </tr>\n",
              "  </tbody>\n",
              "</table>\n",
              "</div>"
            ],
            "text/plain": [
              "         Date      country  Confirmed  Deaths\n",
              "0  2020-01-22  Afghanistan        0.0     0.0\n",
              "1  2020-01-23  Afghanistan        0.0     0.0\n",
              "2  2020-01-24  Afghanistan        0.0     0.0\n",
              "3  2020-01-25  Afghanistan        0.0     0.0\n",
              "4  2020-01-26  Afghanistan        0.0     0.0"
            ]
          },
          "metadata": {
            "tags": []
          },
          "execution_count": 12
        }
      ]
    },
    {
      "cell_type": "code",
      "metadata": {
        "id": "SQ3o10Oqbegc",
        "colab_type": "code",
        "outputId": "b5fcf1e9-e098-419e-d088-3f7ae0ef32f4",
        "colab": {
          "base_uri": "https://localhost:8080/",
          "height": 402
        }
      },
      "source": [
        "train_n2.sort_values('Date').reset_index().drop('index', axis =1)"
      ],
      "execution_count": 13,
      "outputs": [
        {
          "output_type": "execute_result",
          "data": {
            "text/html": [
              "<div>\n",
              "<style scoped>\n",
              "    .dataframe tbody tr th:only-of-type {\n",
              "        vertical-align: middle;\n",
              "    }\n",
              "\n",
              "    .dataframe tbody tr th {\n",
              "        vertical-align: top;\n",
              "    }\n",
              "\n",
              "    .dataframe thead th {\n",
              "        text-align: right;\n",
              "    }\n",
              "</style>\n",
              "<table border=\"1\" class=\"dataframe\">\n",
              "  <thead>\n",
              "    <tr style=\"text-align: right;\">\n",
              "      <th></th>\n",
              "      <th>Date</th>\n",
              "      <th>country</th>\n",
              "      <th>Confirmed</th>\n",
              "      <th>Deaths</th>\n",
              "    </tr>\n",
              "  </thead>\n",
              "  <tbody>\n",
              "    <tr>\n",
              "      <th>0</th>\n",
              "      <td>2020-01-22</td>\n",
              "      <td>Afghanistan</td>\n",
              "      <td>0.0</td>\n",
              "      <td>0.0</td>\n",
              "    </tr>\n",
              "    <tr>\n",
              "      <th>1</th>\n",
              "      <td>2020-01-22</td>\n",
              "      <td>Bhutan</td>\n",
              "      <td>0.0</td>\n",
              "      <td>0.0</td>\n",
              "    </tr>\n",
              "    <tr>\n",
              "      <th>2</th>\n",
              "      <td>2020-01-22</td>\n",
              "      <td>Australia</td>\n",
              "      <td>0.0</td>\n",
              "      <td>0.0</td>\n",
              "    </tr>\n",
              "    <tr>\n",
              "      <th>3</th>\n",
              "      <td>2020-01-22</td>\n",
              "      <td>United Kingdom</td>\n",
              "      <td>0.0</td>\n",
              "      <td>0.0</td>\n",
              "    </tr>\n",
              "    <tr>\n",
              "      <th>4</th>\n",
              "      <td>2020-01-22</td>\n",
              "      <td>Canada</td>\n",
              "      <td>0.0</td>\n",
              "      <td>0.0</td>\n",
              "    </tr>\n",
              "    <tr>\n",
              "      <th>...</th>\n",
              "      <td>...</td>\n",
              "      <td>...</td>\n",
              "      <td>...</td>\n",
              "      <td>...</td>\n",
              "    </tr>\n",
              "    <tr>\n",
              "      <th>16946</th>\n",
              "      <td>2020-03-28</td>\n",
              "      <td>Fiji</td>\n",
              "      <td>5.0</td>\n",
              "      <td>0.0</td>\n",
              "    </tr>\n",
              "    <tr>\n",
              "      <th>16947</th>\n",
              "      <td>2020-03-28</td>\n",
              "      <td>Congo (Brazzaville)</td>\n",
              "      <td>4.0</td>\n",
              "      <td>0.0</td>\n",
              "    </tr>\n",
              "    <tr>\n",
              "      <th>16948</th>\n",
              "      <td>2020-03-28</td>\n",
              "      <td>Lithuania</td>\n",
              "      <td>394.0</td>\n",
              "      <td>7.0</td>\n",
              "    </tr>\n",
              "    <tr>\n",
              "      <th>16949</th>\n",
              "      <td>2020-03-28</td>\n",
              "      <td>France</td>\n",
              "      <td>28.0</td>\n",
              "      <td>0.0</td>\n",
              "    </tr>\n",
              "    <tr>\n",
              "      <th>16950</th>\n",
              "      <td>2020-03-28</td>\n",
              "      <td>Zimbabwe</td>\n",
              "      <td>7.0</td>\n",
              "      <td>1.0</td>\n",
              "    </tr>\n",
              "  </tbody>\n",
              "</table>\n",
              "<p>16951 rows × 4 columns</p>\n",
              "</div>"
            ],
            "text/plain": [
              "             Date              country  Confirmed  Deaths\n",
              "0      2020-01-22          Afghanistan        0.0     0.0\n",
              "1      2020-01-22               Bhutan        0.0     0.0\n",
              "2      2020-01-22            Australia        0.0     0.0\n",
              "3      2020-01-22       United Kingdom        0.0     0.0\n",
              "4      2020-01-22               Canada        0.0     0.0\n",
              "...           ...                  ...        ...     ...\n",
              "16946  2020-03-28                 Fiji        5.0     0.0\n",
              "16947  2020-03-28  Congo (Brazzaville)        4.0     0.0\n",
              "16948  2020-03-28            Lithuania      394.0     7.0\n",
              "16949  2020-03-28               France       28.0     0.0\n",
              "16950  2020-03-28             Zimbabwe        7.0     1.0\n",
              "\n",
              "[16951 rows x 4 columns]"
            ]
          },
          "metadata": {
            "tags": []
          },
          "execution_count": 13
        }
      ]
    },
    {
      "cell_type": "code",
      "metadata": {
        "id": "X6a4ubFQ0cQm",
        "colab_type": "code",
        "outputId": "81b5217b-98ca-46d7-acbe-662e53ab2e8d",
        "colab": {
          "base_uri": "https://localhost:8080/",
          "height": 402
        }
      },
      "source": [
        "train_n2.groupby('Date')[['Confirmed','country','Deaths']].sum().reset_index()"
      ],
      "execution_count": 14,
      "outputs": [
        {
          "output_type": "execute_result",
          "data": {
            "text/html": [
              "<div>\n",
              "<style scoped>\n",
              "    .dataframe tbody tr th:only-of-type {\n",
              "        vertical-align: middle;\n",
              "    }\n",
              "\n",
              "    .dataframe tbody tr th {\n",
              "        vertical-align: top;\n",
              "    }\n",
              "\n",
              "    .dataframe thead th {\n",
              "        text-align: right;\n",
              "    }\n",
              "</style>\n",
              "<table border=\"1\" class=\"dataframe\">\n",
              "  <thead>\n",
              "    <tr style=\"text-align: right;\">\n",
              "      <th></th>\n",
              "      <th>Date</th>\n",
              "      <th>Confirmed</th>\n",
              "      <th>Deaths</th>\n",
              "    </tr>\n",
              "  </thead>\n",
              "  <tbody>\n",
              "    <tr>\n",
              "      <th>0</th>\n",
              "      <td>2020-01-22</td>\n",
              "      <td>555.0</td>\n",
              "      <td>17.0</td>\n",
              "    </tr>\n",
              "    <tr>\n",
              "      <th>1</th>\n",
              "      <td>2020-01-23</td>\n",
              "      <td>654.0</td>\n",
              "      <td>18.0</td>\n",
              "    </tr>\n",
              "    <tr>\n",
              "      <th>2</th>\n",
              "      <td>2020-01-24</td>\n",
              "      <td>941.0</td>\n",
              "      <td>26.0</td>\n",
              "    </tr>\n",
              "    <tr>\n",
              "      <th>3</th>\n",
              "      <td>2020-01-25</td>\n",
              "      <td>1434.0</td>\n",
              "      <td>42.0</td>\n",
              "    </tr>\n",
              "    <tr>\n",
              "      <th>4</th>\n",
              "      <td>2020-01-26</td>\n",
              "      <td>2118.0</td>\n",
              "      <td>56.0</td>\n",
              "    </tr>\n",
              "    <tr>\n",
              "      <th>...</th>\n",
              "      <td>...</td>\n",
              "      <td>...</td>\n",
              "      <td>...</td>\n",
              "    </tr>\n",
              "    <tr>\n",
              "      <th>62</th>\n",
              "      <td>2020-03-24</td>\n",
              "      <td>418045.0</td>\n",
              "      <td>18625.0</td>\n",
              "    </tr>\n",
              "    <tr>\n",
              "      <th>63</th>\n",
              "      <td>2020-03-25</td>\n",
              "      <td>467653.0</td>\n",
              "      <td>21181.0</td>\n",
              "    </tr>\n",
              "    <tr>\n",
              "      <th>64</th>\n",
              "      <td>2020-03-26</td>\n",
              "      <td>529591.0</td>\n",
              "      <td>23970.0</td>\n",
              "    </tr>\n",
              "    <tr>\n",
              "      <th>65</th>\n",
              "      <td>2020-03-27</td>\n",
              "      <td>593291.0</td>\n",
              "      <td>27198.0</td>\n",
              "    </tr>\n",
              "    <tr>\n",
              "      <th>66</th>\n",
              "      <td>2020-03-28</td>\n",
              "      <td>660706.0</td>\n",
              "      <td>30652.0</td>\n",
              "    </tr>\n",
              "  </tbody>\n",
              "</table>\n",
              "<p>67 rows × 3 columns</p>\n",
              "</div>"
            ],
            "text/plain": [
              "          Date  Confirmed   Deaths\n",
              "0   2020-01-22      555.0     17.0\n",
              "1   2020-01-23      654.0     18.0\n",
              "2   2020-01-24      941.0     26.0\n",
              "3   2020-01-25     1434.0     42.0\n",
              "4   2020-01-26     2118.0     56.0\n",
              "..         ...        ...      ...\n",
              "62  2020-03-24   418045.0  18625.0\n",
              "63  2020-03-25   467653.0  21181.0\n",
              "64  2020-03-26   529591.0  23970.0\n",
              "65  2020-03-27   593291.0  27198.0\n",
              "66  2020-03-28   660706.0  30652.0\n",
              "\n",
              "[67 rows x 3 columns]"
            ]
          },
          "metadata": {
            "tags": []
          },
          "execution_count": 14
        }
      ]
    },
    {
      "cell_type": "markdown",
      "metadata": {
        "id": "2d3gpVj1DsQy",
        "colab_type": "text"
      },
      "source": [
        "# Prediction for India only"
      ]
    },
    {
      "cell_type": "code",
      "metadata": {
        "id": "uHCbJg4XDw2j",
        "colab_type": "code",
        "colab": {}
      },
      "source": [
        "train_ind = train_n2.loc[train_n2['country']=='India'].copy()\n"
      ],
      "execution_count": 0,
      "outputs": []
    },
    {
      "cell_type": "code",
      "metadata": {
        "id": "qcmMzX4WHPr2",
        "colab_type": "code",
        "outputId": "a5269041-f573-4d10-bcba-8cebdf6575b6",
        "colab": {
          "base_uri": "https://localhost:8080/",
          "height": 225
        }
      },
      "source": [
        "train_ind['Date'] = pd.to_datetime(train_ind['Date'])\n",
        "train_ind = train_ind.set_index('Date')\n",
        "train_ind.head()\n"
      ],
      "execution_count": 16,
      "outputs": [
        {
          "output_type": "execute_result",
          "data": {
            "text/html": [
              "<div>\n",
              "<style scoped>\n",
              "    .dataframe tbody tr th:only-of-type {\n",
              "        vertical-align: middle;\n",
              "    }\n",
              "\n",
              "    .dataframe tbody tr th {\n",
              "        vertical-align: top;\n",
              "    }\n",
              "\n",
              "    .dataframe thead th {\n",
              "        text-align: right;\n",
              "    }\n",
              "</style>\n",
              "<table border=\"1\" class=\"dataframe\">\n",
              "  <thead>\n",
              "    <tr style=\"text-align: right;\">\n",
              "      <th></th>\n",
              "      <th>country</th>\n",
              "      <th>Confirmed</th>\n",
              "      <th>Deaths</th>\n",
              "    </tr>\n",
              "    <tr>\n",
              "      <th>Date</th>\n",
              "      <th></th>\n",
              "      <th></th>\n",
              "      <th></th>\n",
              "    </tr>\n",
              "  </thead>\n",
              "  <tbody>\n",
              "    <tr>\n",
              "      <th>2020-01-22</th>\n",
              "      <td>India</td>\n",
              "      <td>0.0</td>\n",
              "      <td>0.0</td>\n",
              "    </tr>\n",
              "    <tr>\n",
              "      <th>2020-01-23</th>\n",
              "      <td>India</td>\n",
              "      <td>0.0</td>\n",
              "      <td>0.0</td>\n",
              "    </tr>\n",
              "    <tr>\n",
              "      <th>2020-01-24</th>\n",
              "      <td>India</td>\n",
              "      <td>0.0</td>\n",
              "      <td>0.0</td>\n",
              "    </tr>\n",
              "    <tr>\n",
              "      <th>2020-01-25</th>\n",
              "      <td>India</td>\n",
              "      <td>0.0</td>\n",
              "      <td>0.0</td>\n",
              "    </tr>\n",
              "    <tr>\n",
              "      <th>2020-01-26</th>\n",
              "      <td>India</td>\n",
              "      <td>0.0</td>\n",
              "      <td>0.0</td>\n",
              "    </tr>\n",
              "  </tbody>\n",
              "</table>\n",
              "</div>"
            ],
            "text/plain": [
              "           country  Confirmed  Deaths\n",
              "Date                                 \n",
              "2020-01-22   India        0.0     0.0\n",
              "2020-01-23   India        0.0     0.0\n",
              "2020-01-24   India        0.0     0.0\n",
              "2020-01-25   India        0.0     0.0\n",
              "2020-01-26   India        0.0     0.0"
            ]
          },
          "metadata": {
            "tags": []
          },
          "execution_count": 16
        }
      ]
    },
    {
      "cell_type": "markdown",
      "metadata": {
        "id": "K4hIo551KetA",
        "colab_type": "text"
      },
      "source": [
        "# For Confirmed Cases"
      ]
    },
    {
      "cell_type": "code",
      "metadata": {
        "id": "FkJCqE40KeD-",
        "colab_type": "code",
        "outputId": "3e6e6981-4160-4cb6-f13f-a0f7f2730a4a",
        "colab": {
          "base_uri": "https://localhost:8080/",
          "height": 225
        }
      },
      "source": [
        "train_ind2 = train_ind.drop(['country','Deaths'],axis = 1)\n",
        "train_ind2 = train_ind2.loc[train_ind2['Confirmed']>0]\n",
        "train_ind3 = train_ind2\n",
        "train_ind2.head()"
      ],
      "execution_count": 17,
      "outputs": [
        {
          "output_type": "execute_result",
          "data": {
            "text/html": [
              "<div>\n",
              "<style scoped>\n",
              "    .dataframe tbody tr th:only-of-type {\n",
              "        vertical-align: middle;\n",
              "    }\n",
              "\n",
              "    .dataframe tbody tr th {\n",
              "        vertical-align: top;\n",
              "    }\n",
              "\n",
              "    .dataframe thead th {\n",
              "        text-align: right;\n",
              "    }\n",
              "</style>\n",
              "<table border=\"1\" class=\"dataframe\">\n",
              "  <thead>\n",
              "    <tr style=\"text-align: right;\">\n",
              "      <th></th>\n",
              "      <th>Confirmed</th>\n",
              "    </tr>\n",
              "    <tr>\n",
              "      <th>Date</th>\n",
              "      <th></th>\n",
              "    </tr>\n",
              "  </thead>\n",
              "  <tbody>\n",
              "    <tr>\n",
              "      <th>2020-01-30</th>\n",
              "      <td>1.0</td>\n",
              "    </tr>\n",
              "    <tr>\n",
              "      <th>2020-01-31</th>\n",
              "      <td>1.0</td>\n",
              "    </tr>\n",
              "    <tr>\n",
              "      <th>2020-02-01</th>\n",
              "      <td>1.0</td>\n",
              "    </tr>\n",
              "    <tr>\n",
              "      <th>2020-02-02</th>\n",
              "      <td>2.0</td>\n",
              "    </tr>\n",
              "    <tr>\n",
              "      <th>2020-02-03</th>\n",
              "      <td>3.0</td>\n",
              "    </tr>\n",
              "  </tbody>\n",
              "</table>\n",
              "</div>"
            ],
            "text/plain": [
              "            Confirmed\n",
              "Date                 \n",
              "2020-01-30        1.0\n",
              "2020-01-31        1.0\n",
              "2020-02-01        1.0\n",
              "2020-02-02        2.0\n",
              "2020-02-03        3.0"
            ]
          },
          "metadata": {
            "tags": []
          },
          "execution_count": 17
        }
      ]
    },
    {
      "cell_type": "code",
      "metadata": {
        "id": "cqDyts1fDDWe",
        "colab_type": "code",
        "outputId": "d6db3844-7d13-4366-e9ca-c19b7dd02ab1",
        "colab": {
          "base_uri": "https://localhost:8080/",
          "height": 300
        }
      },
      "source": [
        "pd.plotting.register_matplotlib_converters()\n",
        "from statsmodels.tsa.seasonal import seasonal_decompose\n",
        "result = seasonal_decompose(train_ind2, model='multiplicative')\n",
        "result.plot()\n",
        "plt.show()"
      ],
      "execution_count": 18,
      "outputs": [
        {
          "output_type": "display_data",
          "data": {
            "image/png": "[encoded data removed]",
            "text/plain": [
              "<Figure size 432x288 with 4 Axes>"
            ]
          },
          "metadata": {
            "tags": []
          }
        }
      ]
    },
    {
      "cell_type": "code",
      "metadata": {
        "id": "1aR07rG9MjgQ",
        "colab_type": "code",
        "outputId": "e99ad3f6-ee28-499d-c5ef-74a5693a0f02",
        "colab": {
          "base_uri": "https://localhost:8080/",
          "height": 195
        }
      },
      "source": [
        "new_colname = 'y'\n",
        "train_ind2.index.rename('ds', inplace=True)\n",
        "train_ind2.rename(columns = {'Confirmed' : 'y'},inplace=True)\n",
        "train_ind2.reset_index(level=0, inplace=True)\n",
        "train_ind2.head()"
      ],
      "execution_count": 19,
      "outputs": [
        {
          "output_type": "execute_result",
          "data": {
            "text/html": [
              "<div>\n",
              "<style scoped>\n",
              "    .dataframe tbody tr th:only-of-type {\n",
              "        vertical-align: middle;\n",
              "    }\n",
              "\n",
              "    .dataframe tbody tr th {\n",
              "        vertical-align: top;\n",
              "    }\n",
              "\n",
              "    .dataframe thead th {\n",
              "        text-align: right;\n",
              "    }\n",
              "</style>\n",
              "<table border=\"1\" class=\"dataframe\">\n",
              "  <thead>\n",
              "    <tr style=\"text-align: right;\">\n",
              "      <th></th>\n",
              "      <th>ds</th>\n",
              "      <th>y</th>\n",
              "    </tr>\n",
              "  </thead>\n",
              "  <tbody>\n",
              "    <tr>\n",
              "      <th>0</th>\n",
              "      <td>2020-01-30</td>\n",
              "      <td>1.0</td>\n",
              "    </tr>\n",
              "    <tr>\n",
              "      <th>1</th>\n",
              "      <td>2020-01-31</td>\n",
              "      <td>1.0</td>\n",
              "    </tr>\n",
              "    <tr>\n",
              "      <th>2</th>\n",
              "      <td>2020-02-01</td>\n",
              "      <td>1.0</td>\n",
              "    </tr>\n",
              "    <tr>\n",
              "      <th>3</th>\n",
              "      <td>2020-02-02</td>\n",
              "      <td>2.0</td>\n",
              "    </tr>\n",
              "    <tr>\n",
              "      <th>4</th>\n",
              "      <td>2020-02-03</td>\n",
              "      <td>3.0</td>\n",
              "    </tr>\n",
              "  </tbody>\n",
              "</table>\n",
              "</div>"
            ],
            "text/plain": [
              "          ds    y\n",
              "0 2020-01-30  1.0\n",
              "1 2020-01-31  1.0\n",
              "2 2020-02-01  1.0\n",
              "3 2020-02-02  2.0\n",
              "4 2020-02-03  3.0"
            ]
          },
          "metadata": {
            "tags": []
          },
          "execution_count": 19
        }
      ]
    },
    {
      "cell_type": "markdown",
      "metadata": {
        "id": "czlMycjY9Z1y",
        "colab_type": "text"
      },
      "source": [
        "# Predicting using facebook Prophet\n",
        "## Since there is no daily seasonality, we make it false while other values true to get the final prediction. Prophet takes care of rest of the algorithms and values internally."
      ]
    },
    {
      "cell_type": "code",
      "metadata": {
        "id": "c79Smw8r3z_Q",
        "colab_type": "code",
        "outputId": "c0ae1574-5880-4a6a-d086-cb360d707fde",
        "colab": {
          "base_uri": "https://localhost:8080/",
          "height": 34
        }
      },
      "source": [
        "from fbprophet import Prophet\n",
        "\n",
        "# instantiate the model and set parameters\n",
        "model = Prophet(\n",
        "    interval_width=0.95,\n",
        "    holidays = pd.DataFrame({'holiday': 'lockdown','ds': pd.to_datetime(['2020-03-24','2020-03-25','2020-03-26','2020-03-27','2020-03-28','2020-03-29','2020-03-30','2020-03-31','2020-04-01'\n",
        "    ,'2020-04-02','2020-04-03','2020-04-04','2020-04-05','2020-04-05','2020-04-06','2020-04-07','2020-04-08','2020-04-09','2020-04-10','2020-04-11','2020-04-12','2020-04-13','2020-04-14'])}),\n",
        "    growth='linear',\n",
        "    daily_seasonality=False,\n",
        "    weekly_seasonality=True,\n",
        "    yearly_seasonality=True,\n",
        "    seasonality_mode='multiplicative'\n",
        ")\n",
        "\n",
        "# fit the model to historical data\n",
        "\n",
        "model.fit(train_ind2)"
      ],
      "execution_count": 20,
      "outputs": [
        {
          "output_type": "execute_result",
          "data": {
            "text/plain": [
              "<fbprophet.forecaster.Prophet at 0x7f5ec03bb5f8>"
            ]
          },
          "metadata": {
            "tags": []
          },
          "execution_count": 20
        }
      ]
    },
    {
      "cell_type": "code",
      "metadata": {
        "id": "tT781hu8Lefv",
        "colab_type": "code",
        "colab": {}
      },
      "source": [
        "future_pd = model.make_future_dataframe(\n",
        "    periods=60,\n",
        "    freq='d',\n",
        "    include_history=True\n",
        ")\n",
        "\n",
        "# predict over the dataset\n",
        "forecast_pd = model.predict(future_pd)"
      ],
      "execution_count": 0,
      "outputs": []
    },
    {
      "cell_type": "code",
      "metadata": {
        "id": "1GPQCZR1QCLO",
        "colab_type": "code",
        "outputId": "53921d5e-bd5a-48d4-903e-d0f734bf071a",
        "colab": {
          "base_uri": "https://localhost:8080/",
          "height": 865
        }
      },
      "source": [
        "predict_fig = model.plot(forecast_pd, xlabel='date', ylabel='confirmed cases')\n",
        "display(predict_fig)"
      ],
      "execution_count": 22,
      "outputs": [
        {
          "output_type": "display_data",
          "data": {
            "image/png": "[encoded data removed]",
            "text/plain": [
              "<Figure size 720x432 with 1 Axes>"
            ]
          },
          "metadata": {
            "tags": []
          }
        },
        {
          "output_type": "display_data",
          "data": {
            "image/png": "[encoded data removed]",
            "text/plain": [
              "<Figure size 720x432 with 1 Axes>"
            ]
          },
          "metadata": {
            "tags": []
          }
        }
      ]
    },
    {
      "cell_type": "code",
      "metadata": {
        "id": "56VgEv-Pe3Fq",
        "colab_type": "code",
        "colab": {
          "base_uri": "https://localhost:8080/",
          "height": 617
        },
        "outputId": "6499bb32-d8e5-45fc-ab60-1e1db68f0537"
      },
      "source": [
        "from fbprophet.plot import plot_plotly\n",
        "import plotly.offline as py\n",
        "\n",
        "fig = plot_plotly(model, forecast_pd)  # This returns a plotly Figure\n",
        "py.iplot(fig)"
      ],
      "execution_count": 23,
      "outputs": [
        {
          "output_type": "display_data",
          "data": {
            "text/html": [
              "<html>\n",
              "<head><meta charset=\"utf-8\" /></head>\n",
              "<body>\n",
              "    <div>\n",
              "            <script src=\"https://cdnjs.cloudflare.com/ajax/libs/mathjax/2.7.5/MathJax.js?config=TeX-AMS-MML_SVG\"></script><script type=\"text/javascript\">if (window.MathJax) {MathJax.Hub.Config({SVG: {font: \"STIX-Web\"}});}</script>\n",
              "                <script type=\"text/javascript\">window.PlotlyConfig = {MathJaxConfig: 'local'};</script>\n",
              "        <script src=\"https://cdn.plot.ly/plotly-latest.min.js\"></script>    \n",
              "            <div id=\"040339be-9bef-4c2b-b172-c19b84382f45\" class=\"plotly-graph-div\" style=\"height:600px; width:900px;\"></div>\n",
              "            <script type=\"text/javascript\">\n",
              "                \n",
              "                    window.PLOTLYENV=window.PLOTLYENV || {};\n",
              "                    \n",
              "                if (document.getElementById(\"040339be-9bef-4c2b-b172-c19b84382f45\")) {\n",
              "                    Plotly.newPlot(\n",
              "                        '040339be-9bef-4c2b-b172-c19b84382f45',\n",
              "                        [{\"marker\": {\"color\": \"black\", \"size\": 4}, \"mode\": \"markers\", \"name\": \"Actual\", \"type\": \"scatter\", \"x\": [\"2020-01-30T00:00:00\", \"2020-01-31T00:00:00\", \"2020-02-01T00:00:00\", \"2020-02-02T00:00:00\", \"2020-02-03T00:00:00\", \"2020-02-04T00:00:00\", \"2020-02-05T00:00:00\", \"2020-02-06T00:00:00\", \"2020-02-07T00:00:00\", \"2020-02-08T00:00:00\", \"2020-02-09T00:00:00\", \"2020-02-10T00:00:00\", \"2020-02-11T00:00:00\", \"2020-02-12T00:00:00\", \"2020-02-13T00:00:00\", \"2020-02-14T00:00:00\", \"2020-02-15T00:00:00\", \"2020-02-16T00:00:00\", \"2020-02-17T00:00:00\", \"2020-02-18T00:00:00\", \"2020-02-19T00:00:00\", \"2020-02-20T00:00:00\", \"2020-02-21T00:00:00\", \"2020-02-22T00:00:00\", \"2020-02-23T00:00:00\", \"2020-02-24T00:00:00\", \"2020-02-25T00:00:00\", \"2020-02-26T00:00:00\", \"2020-02-27T00:00:00\", \"2020-02-28T00:00:00\", \"2020-02-29T00:00:00\", \"2020-03-01T00:00:00\", \"2020-03-02T00:00:00\", \"2020-03-03T00:00:00\", \"2020-03-04T00:00:00\", \"2020-03-05T00:00:00\", \"2020-03-06T00:00:00\", \"2020-03-07T00:00:00\", \"2020-03-08T00:00:00\", \"2020-03-09T00:00:00\", \"2020-03-10T00:00:00\", \"2020-03-11T00:00:00\", \"2020-03-12T00:00:00\", \"2020-03-13T00:00:00\", \"2020-03-14T00:00:00\", \"2020-03-15T00:00:00\", \"2020-03-16T00:00:00\", \"2020-03-17T00:00:00\", \"2020-03-18T00:00:00\", \"2020-03-19T00:00:00\", \"2020-03-20T00:00:00\", \"2020-03-21T00:00:00\", \"2020-03-22T00:00:00\", \"2020-03-23T00:00:00\", \"2020-03-24T00:00:00\", \"2020-03-25T00:00:00\", \"2020-03-26T00:00:00\", \"2020-03-27T00:00:00\", \"2020-03-28T00:00:00\"], \"y\": [1.0, 1.0, 1.0, 2.0, 3.0, 3.0, 3.0, 3.0, 3.0, 3.0, 3.0, 3.0, 3.0, 3.0, 3.0, 3.0, 3.0, 3.0, 3.0, 3.0, 3.0, 3.0, 3.0, 3.0, 3.0, 3.0, 3.0, 3.0, 3.0, 3.0, 3.0, 3.0, 5.0, 5.0, 28.0, 30.0, 31.0, 34.0, 39.0, 43.0, 56.0, 62.0, 73.0, 82.0, 102.0, 113.0, 119.0, 142.0, 156.0, 194.0, 244.0, 330.0, 396.0, 499.0, 536.0, 657.0, 727.0, 887.0, 987.0]}, {\"hoverinfo\": \"skip\", \"line\": {\"width\": 0}, \"mode\": \"lines\", \"type\": \"scatter\", \"x\": [\"2020-01-30T00:00:00\", \"2020-01-31T00:00:00\", \"2020-02-01T00:00:00\", \"2020-02-02T00:00:00\", \"2020-02-03T00:00:00\", \"2020-02-04T00:00:00\", \"2020-02-05T00:00:00\", \"2020-02-06T00:00:00\", \"2020-02-07T00:00:00\", \"2020-02-08T00:00:00\", \"2020-02-09T00:00:00\", \"2020-02-10T00:00:00\", \"2020-02-11T00:00:00\", \"2020-02-12T00:00:00\", \"2020-02-13T00:00:00\", \"2020-02-14T00:00:00\", \"2020-02-15T00:00:00\", \"2020-02-16T00:00:00\", \"2020-02-17T00:00:00\", \"2020-02-18T00:00:00\", \"2020-02-19T00:00:00\", \"2020-02-20T00:00:00\", \"2020-02-21T00:00:00\", \"2020-02-22T00:00:00\", \"2020-02-23T00:00:00\", \"2020-02-24T00:00:00\", \"2020-02-25T00:00:00\", \"2020-02-26T00:00:00\", \"2020-02-27T00:00:00\", \"2020-02-28T00:00:00\", \"2020-02-29T00:00:00\", \"2020-03-01T00:00:00\", \"2020-03-02T00:00:00\", \"2020-03-03T00:00:00\", \"2020-03-04T00:00:00\", \"2020-03-05T00:00:00\", \"2020-03-06T00:00:00\", \"2020-03-07T00:00:00\", \"2020-03-08T00:00:00\", \"2020-03-09T00:00:00\", \"2020-03-10T00:00:00\", \"2020-03-11T00:00:00\", \"2020-03-12T00:00:00\", \"2020-03-13T00:00:00\", \"2020-03-14T00:00:00\", \"2020-03-15T00:00:00\", \"2020-03-16T00:00:00\", \"2020-03-17T00:00:00\", \"2020-03-18T00:00:00\", \"2020-03-19T00:00:00\", \"2020-03-20T00:00:00\", \"2020-03-21T00:00:00\", \"2020-03-22T00:00:00\", \"2020-03-23T00:00:00\", \"2020-03-24T00:00:00\", \"2020-03-25T00:00:00\", \"2020-03-26T00:00:00\", \"2020-03-27T00:00:00\", \"2020-03-28T00:00:00\", \"2020-03-29T00:00:00\", \"2020-03-30T00:00:00\", \"2020-03-31T00:00:00\", \"2020-04-01T00:00:00\", \"2020-04-02T00:00:00\", \"2020-04-03T00:00:00\", \"2020-04-04T00:00:00\", \"2020-04-05T00:00:00\", \"2020-04-06T00:00:00\", \"2020-04-07T00:00:00\", \"2020-04-08T00:00:00\", \"2020-04-09T00:00:00\", \"2020-04-10T00:00:00\", \"2020-04-11T00:00:00\", \"2020-04-12T00:00:00\", \"2020-04-13T00:00:00\", \"2020-04-14T00:00:00\", \"2020-04-15T00:00:00\", \"2020-04-16T00:00:00\", \"2020-04-17T00:00:00\", \"2020-04-18T00:00:00\", \"2020-04-19T00:00:00\", \"2020-04-20T00:00:00\", \"2020-04-21T00:00:00\", \"2020-04-22T00:00:00\", \"2020-04-23T00:00:00\", \"2020-04-24T00:00:00\", \"2020-04-25T00:00:00\", \"2020-04-26T00:00:00\", \"2020-04-27T00:00:00\", \"2020-04-28T00:00:00\", \"2020-04-29T00:00:00\", \"2020-04-30T00:00:00\", \"2020-05-01T00:00:00\", \"2020-05-02T00:00:00\", \"2020-05-03T00:00:00\", \"2020-05-04T00:00:00\", \"2020-05-05T00:00:00\", \"2020-05-06T00:00:00\", \"2020-05-07T00:00:00\", \"2020-05-08T00:00:00\", \"2020-05-09T00:00:00\", \"2020-05-10T00:00:00\", \"2020-05-11T00:00:00\", \"2020-05-12T00:00:00\", \"2020-05-13T00:00:00\", \"2020-05-14T00:00:00\", \"2020-05-15T00:00:00\", \"2020-05-16T00:00:00\", \"2020-05-17T00:00:00\", \"2020-05-18T00:00:00\", \"2020-05-19T00:00:00\", \"2020-05-20T00:00:00\", \"2020-05-21T00:00:00\", \"2020-05-22T00:00:00\", \"2020-05-23T00:00:00\", \"2020-05-24T00:00:00\", \"2020-05-25T00:00:00\", \"2020-05-26T00:00:00\", \"2020-05-27T00:00:00\"], \"y\": [-5.0411034664855885, -4.793202617241014, -4.432554395371575, -3.303488350734928, -2.6928477774534763, -2.55537557719603, -2.7646423750235027, -2.417993816009438, -2.8320255578309523, -2.765447315560509, -2.8518202109837985, -3.001386273106963, -2.6763499458789166, -2.536773006331496, -2.0421640780813664, -2.7212311441091375, -3.39684204063504, -4.164824172158399, -5.132669440733558, -5.236411217639937, -3.1289958805797657, -2.617713197068703, -2.449020067653761, -2.1763118020685726, -2.4908102035652244, -2.917343982404952, -2.7436612185658498, -2.5154594849894947, -2.621606399091515, -2.68036693677152, -2.4560841596299663, -3.361771185036424, 0.02973276127924448, 2.0027591793868296, 15.693708221184629, 26.36030532421186, 27.638255037528598, 27.269672471167016, 33.66992206250437, 37.43308544949372, 49.34213099815693, 59.77834215055795, 62.769536423817435, 82.35959393312753, 93.34001318686062, 105.13599604022856, 114.94071860306565, 132.66410812481988, 159.1263981803797, 177.47030484695202, 245.83958987581318, 322.09915317055743, 391.11931529925903, 492.69727933687847, 531.306195842009, 647.1132066625422, 725.9129335105156, 877.3704870001851, 982.7099757596884, 1002.8615310683323, 1002.3297504904357, 882.6945380751524, 741.0290670626117, 461.09752410107063, 219.3009462112744, -168.33280353931724, -766.5710716332056, -1438.1191230397949, -2312.4624807582227, -3226.128192117603, -4324.299441760737, -5329.271686770893, -6442.112691812706, -7694.115696366993, -8881.41338905738, -10190.947599971354, -11169.156996380134, -12296.75461104972, -13078.98543311212, -13774.451644598155, -14384.089051290255, -14682.592630934922, -14856.178495183694, -14653.817705437874, -14320.693813182292, -13402.70237190548, -12254.407446417477, -11003.1565846368, -9400.42595336293, -7741.370029081233, -5740.591676071922, -3759.179271485761, -1291.1898376235913, 720.4637250174851, 2114.0653394054434, 3528.2015034308197, 4711.36849495702, 5878.664342247935, 6739.4322803648165, 7689.401054480646, 8405.865988311074, 8775.819430638465, 8966.561545954464, 8777.819146936865, 8504.818845387006, 7885.540229094952, 7360.959467504783, 6566.192194292969, 5458.276603908446, 4327.740443635832, 2941.972250015434, 1657.310528115328, 221.44793779471559, -1645.1719415021453, -3814.927942439534, -6141.002092233505, -8073.505054400031, -10038.737836458426, -11380.119693169643]}, {\"fill\": \"tonexty\", \"fillcolor\": \"rgba(0, 114, 178, 0.2)\", \"line\": {\"color\": \"#0072B2\", \"width\": 2}, \"mode\": \"lines\", \"name\": \"Predicted\", \"type\": \"scatter\", \"x\": [\"2020-01-30T00:00:00\", \"2020-01-31T00:00:00\", \"2020-02-01T00:00:00\", \"2020-02-02T00:00:00\", \"2020-02-03T00:00:00\", \"2020-02-04T00:00:00\", \"2020-02-05T00:00:00\", \"2020-02-06T00:00:00\", \"2020-02-07T00:00:00\", \"2020-02-08T00:00:00\", \"2020-02-09T00:00:00\", \"2020-02-10T00:00:00\", \"2020-02-11T00:00:00\", \"2020-02-12T00:00:00\", \"2020-02-13T00:00:00\", \"2020-02-14T00:00:00\", \"2020-02-15T00:00:00\", \"2020-02-16T00:00:00\", \"2020-02-17T00:00:00\", \"2020-02-18T00:00:00\", \"2020-02-19T00:00:00\", \"2020-02-20T00:00:00\", \"2020-02-21T00:00:00\", \"2020-02-22T00:00:00\", \"2020-02-23T00:00:00\", \"2020-02-24T00:00:00\", \"2020-02-25T00:00:00\", \"2020-02-26T00:00:00\", \"2020-02-27T00:00:00\", \"2020-02-28T00:00:00\", \"2020-02-29T00:00:00\", \"2020-03-01T00:00:00\", \"2020-03-02T00:00:00\", \"2020-03-03T00:00:00\", \"2020-03-04T00:00:00\", \"2020-03-05T00:00:00\", \"2020-03-06T00:00:00\", \"2020-03-07T00:00:00\", \"2020-03-08T00:00:00\", \"2020-03-09T00:00:00\", \"2020-03-10T00:00:00\", \"2020-03-11T00:00:00\", \"2020-03-12T00:00:00\", \"2020-03-13T00:00:00\", \"2020-03-14T00:00:00\", \"2020-03-15T00:00:00\", \"2020-03-16T00:00:00\", \"2020-03-17T00:00:00\", \"2020-03-18T00:00:00\", \"2020-03-19T00:00:00\", \"2020-03-20T00:00:00\", \"2020-03-21T00:00:00\", \"2020-03-22T00:00:00\", \"2020-03-23T00:00:00\", \"2020-03-24T00:00:00\", \"2020-03-25T00:00:00\", \"2020-03-26T00:00:00\", \"2020-03-27T00:00:00\", \"2020-03-28T00:00:00\", \"2020-03-29T00:00:00\", \"2020-03-30T00:00:00\", \"2020-03-31T00:00:00\", \"2020-04-01T00:00:00\", \"2020-04-02T00:00:00\", \"2020-04-03T00:00:00\", \"2020-04-04T00:00:00\", \"2020-04-05T00:00:00\", \"2020-04-06T00:00:00\", \"2020-04-07T00:00:00\", \"2020-04-08T00:00:00\", \"2020-04-09T00:00:00\", \"2020-04-10T00:00:00\", \"2020-04-11T00:00:00\", \"2020-04-12T00:00:00\", \"2020-04-13T00:00:00\", \"2020-04-14T00:00:00\", \"2020-04-15T00:00:00\", \"2020-04-16T00:00:00\", \"2020-04-17T00:00:00\", \"2020-04-18T00:00:00\", \"2020-04-19T00:00:00\", \"2020-04-20T00:00:00\", \"2020-04-21T00:00:00\", \"2020-04-22T00:00:00\", \"2020-04-23T00:00:00\", \"2020-04-24T00:00:00\", \"2020-04-25T00:00:00\", \"2020-04-26T00:00:00\", \"2020-04-27T00:00:00\", \"2020-04-28T00:00:00\", \"2020-04-29T00:00:00\", \"2020-04-30T00:00:00\", \"2020-05-01T00:00:00\", \"2020-05-02T00:00:00\", \"2020-05-03T00:00:00\", \"2020-05-04T00:00:00\", \"2020-05-05T00:00:00\", \"2020-05-06T00:00:00\", \"2020-05-07T00:00:00\", \"2020-05-08T00:00:00\", \"2020-05-09T00:00:00\", \"2020-05-10T00:00:00\", \"2020-05-11T00:00:00\", \"2020-05-12T00:00:00\", \"2020-05-13T00:00:00\", \"2020-05-14T00:00:00\", \"2020-05-15T00:00:00\", \"2020-05-16T00:00:00\", \"2020-05-17T00:00:00\", \"2020-05-18T00:00:00\", \"2020-05-19T00:00:00\", \"2020-05-20T00:00:00\", \"2020-05-21T00:00:00\", \"2020-05-22T00:00:00\", \"2020-05-23T00:00:00\", \"2020-05-24T00:00:00\", \"2020-05-25T00:00:00\", \"2020-05-26T00:00:00\", \"2020-05-27T00:00:00\"], \"y\": [0.759691494744986, 1.0595018214420548, 1.4030492035671456, 2.0281539160877755, 2.68762628060747, 2.891337578487078, 3.0037307361405525, 3.086698166028778, 3.062014112774958, 2.994567864273262, 3.0232483351423447, 2.9475312418049966, 3.0645954424894657, 2.9942155061735005, 3.2749344133892904, 3.055268457688767, 2.4694739253389737, 1.5780986722938435, 0.0698407717000018, 0.33779501406807866, 2.355054201091897, 2.9537601636459643, 3.26193422454109, 3.2637257596734517, 2.879380337266194, 3.007295466539151, 2.995299202525401, 3.040743930467291, 2.984804041927713, 2.98989328869864, 2.919739765101386, 2.7717458376114528, 5.60987526496504, 8.092544310519084, 21.262584950074846, 32.14543967139228, 33.13569939316822, 33.112896193870036, 39.03773470095696, 42.978258499284635, 54.633797016286614, 65.20218681066397, 68.39588415285976, 88.09973891169244, 99.33017223124716, 110.72820978102482, 120.33760745632729, 138.21727720673076, 165.03025465051803, 183.25960032456612, 251.39338357191903, 327.7168831505152, 396.5097489636845, 498.63426361017963, 537.2921109138966, 653.3500514210534, 731.9455877040215, 882.9121346321198, 988.4245887765322, 1009.5557673107078, 1013.0134298048539, 897.1175178772886, 759.6412251410973, 477.91798604353403, 229.4871528426132, -159.2466129778191, -726.8362319146872, -1354.7913477999462, -2165.340775523217, -2994.4119555576945, -3984.6137366708103, -4865.938709502843, -5846.030819177817, -6945.381719384781, -7980.938716161081, -9088.323320357642, -9903.081132504913, -10855.300981683402, -11465.565702655822, -11994.038976516842, -12467.67404681086, -12668.824714707971, -12781.100937965475, -12544.041077475764, -12191.746870138155, -11335.178391171758, -10328.61963678184, -9245.45637596615, -7870.388836267722, -6467.5810066027625, -4774.43625362669, -3111.384646943742, -1063.4281799137325, 916.657647946581, 2713.384695225814, 4552.889328986059, 6112.357251781434, 7686.726271290033, 8907.049285926625, 10258.73865981782, 11240.430890296015, 11748.484281824338, 12076.300606465878, 11899.64213195019, 11602.06571836152, 10819.67845905909, 10157.459274717643, 9108.578164842967, 7616.872927429764, 6069.90066841506, 4159.139037583402, 2363.4267701863287, 319.6982552688611, -1262.7016060884944, -2921.989289859539, -4702.896502479821, -6168.975128885821, -7666.297993336925, -8680.531013611684]}, {\"fill\": \"tonexty\", \"fillcolor\": \"rgba(0, 114, 178, 0.2)\", \"hoverinfo\": \"skip\", \"line\": {\"width\": 0}, \"mode\": \"lines\", \"type\": \"scatter\", \"x\": [\"2020-01-30T00:00:00\", \"2020-01-31T00:00:00\", \"2020-02-01T00:00:00\", \"2020-02-02T00:00:00\", \"2020-02-03T00:00:00\", \"2020-02-04T00:00:00\", \"2020-02-05T00:00:00\", \"2020-02-06T00:00:00\", \"2020-02-07T00:00:00\", \"2020-02-08T00:00:00\", \"2020-02-09T00:00:00\", \"2020-02-10T00:00:00\", \"2020-02-11T00:00:00\", \"2020-02-12T00:00:00\", \"2020-02-13T00:00:00\", \"2020-02-14T00:00:00\", \"2020-02-15T00:00:00\", \"2020-02-16T00:00:00\", \"2020-02-17T00:00:00\", \"2020-02-18T00:00:00\", \"2020-02-19T00:00:00\", \"2020-02-20T00:00:00\", \"2020-02-21T00:00:00\", \"2020-02-22T00:00:00\", \"2020-02-23T00:00:00\", \"2020-02-24T00:00:00\", \"2020-02-25T00:00:00\", \"2020-02-26T00:00:00\", \"2020-02-27T00:00:00\", \"2020-02-28T00:00:00\", \"2020-02-29T00:00:00\", \"2020-03-01T00:00:00\", \"2020-03-02T00:00:00\", \"2020-03-03T00:00:00\", \"2020-03-04T00:00:00\", \"2020-03-05T00:00:00\", \"2020-03-06T00:00:00\", \"2020-03-07T00:00:00\", \"2020-03-08T00:00:00\", \"2020-03-09T00:00:00\", \"2020-03-10T00:00:00\", \"2020-03-11T00:00:00\", \"2020-03-12T00:00:00\", \"2020-03-13T00:00:00\", \"2020-03-14T00:00:00\", \"2020-03-15T00:00:00\", \"2020-03-16T00:00:00\", \"2020-03-17T00:00:00\", \"2020-03-18T00:00:00\", \"2020-03-19T00:00:00\", \"2020-03-20T00:00:00\", \"2020-03-21T00:00:00\", \"2020-03-22T00:00:00\", \"2020-03-23T00:00:00\", \"2020-03-24T00:00:00\", \"2020-03-25T00:00:00\", \"2020-03-26T00:00:00\", \"2020-03-27T00:00:00\", \"2020-03-28T00:00:00\", \"2020-03-29T00:00:00\", \"2020-03-30T00:00:00\", \"2020-03-31T00:00:00\", \"2020-04-01T00:00:00\", \"2020-04-02T00:00:00\", \"2020-04-03T00:00:00\", \"2020-04-04T00:00:00\", \"2020-04-05T00:00:00\", \"2020-04-06T00:00:00\", \"2020-04-07T00:00:00\", \"2020-04-08T00:00:00\", \"2020-04-09T00:00:00\", \"2020-04-10T00:00:00\", \"2020-04-11T00:00:00\", \"2020-04-12T00:00:00\", \"2020-04-13T00:00:00\", \"2020-04-14T00:00:00\", \"2020-04-15T00:00:00\", \"2020-04-16T00:00:00\", \"2020-04-17T00:00:00\", \"2020-04-18T00:00:00\", \"2020-04-19T00:00:00\", \"2020-04-20T00:00:00\", \"2020-04-21T00:00:00\", \"2020-04-22T00:00:00\", \"2020-04-23T00:00:00\", \"2020-04-24T00:00:00\", \"2020-04-25T00:00:00\", \"2020-04-26T00:00:00\", \"2020-04-27T00:00:00\", \"2020-04-28T00:00:00\", \"2020-04-29T00:00:00\", \"2020-04-30T00:00:00\", \"2020-05-01T00:00:00\", \"2020-05-02T00:00:00\", \"2020-05-03T00:00:00\", \"2020-05-04T00:00:00\", \"2020-05-05T00:00:00\", \"2020-05-06T00:00:00\", \"2020-05-07T00:00:00\", \"2020-05-08T00:00:00\", \"2020-05-09T00:00:00\", \"2020-05-10T00:00:00\", \"2020-05-11T00:00:00\", \"2020-05-12T00:00:00\", \"2020-05-13T00:00:00\", \"2020-05-14T00:00:00\", \"2020-05-15T00:00:00\", \"2020-05-16T00:00:00\", \"2020-05-17T00:00:00\", \"2020-05-18T00:00:00\", \"2020-05-19T00:00:00\", \"2020-05-20T00:00:00\", \"2020-05-21T00:00:00\", \"2020-05-22T00:00:00\", \"2020-05-23T00:00:00\", \"2020-05-24T00:00:00\", \"2020-05-25T00:00:00\", \"2020-05-26T00:00:00\", \"2020-05-27T00:00:00\"], \"y\": [6.671486171314347, 7.222890962429264, 6.858205371728921, 8.082201329204349, 8.367501969426248, 8.665105935044954, 8.271823506160187, 9.080668134200192, 9.317681665044512, 8.816319805187428, 8.870217472351428, 8.59683609644965, 9.282530814628565, 8.604329531661994, 8.53702830900551, 8.831593260155648, 8.323426968413889, 6.836235393201242, 5.747457448986434, 5.5255511776164, 7.638708086600721, 8.277617397796341, 8.936112409946503, 9.166669378828873, 8.590362005313093, 8.502045458789974, 9.131189571702311, 8.951434873547472, 8.774156984884566, 8.310003519692437, 8.7502335936466, 8.130692198722972, 11.057549232443394, 13.701198805994178, 26.66759078584293, 38.04396721557202, 38.623311321951206, 38.552942434028324, 44.70339438929497, 48.93521173371857, 60.208077258433285, 70.70945706406344, 74.0264840011067, 93.94404896617277, 104.88151499166105, 115.78773228026064, 126.226897417383, 143.80154275867716, 170.89842858373018, 189.14454810155362, 257.0820911685171, 333.3274462546364, 401.58302687381524, 504.4579064038416, 543.0228279807852, 659.3268188046231, 737.4835284099086, 888.5300044925455, 994.1221753017392, 1016.3129164619413, 1023.6944491879475, 911.7971579577214, 777.5991283859971, 492.83168585118005, 239.12236881670063, -150.31524338645033, -689.2315349233272, -1277.6736624256553, -2025.25571833753, -2777.112122646985, -3655.5351803460653, -4423.887401556026, -5260.756188675243, -6189.122948282916, -7047.770692352813, -7955.627778485843, -8581.157703889263, -9337.376983503302, -9811.312796483438, -10208.664957336998, -10535.587709841635, -10660.57327102631, -10709.819634179537, -10449.963898719854, -10117.385037971342, -9339.915500210482, -8442.234359960807, -7491.81157120425, -6352.28355127116, -5200.197035944102, -3819.694768031855, -2465.81800520045, -841.5818238998313, 1117.6937709557678, 3318.0359784222424, 5587.081162766286, 7524.773747631153, 9485.702115101363, 11006.299916810272, 12704.547559850094, 13960.167533314583, 14621.53146300842, 15082.690958456687, 14940.186085142897, 14648.069875426998, 13706.390421074575, 12911.198690960447, 11615.360151129345, 9752.937144028354, 7793.878495399453, 5365.458893779415, 3065.117092729992, 414.7265195270735, -878.6117433718115, -2011.6269523078083, -3218.1003977840064, -4192.523136521021, -5177.3292743407355, -5819.524266298162]}],\n",
              "                        {\"height\": 600, \"showlegend\": false, \"template\": {\"data\": {\"bar\": [{\"error_x\": {\"color\": \"#2a3f5f\"}, \"error_y\": {\"color\": \"#2a3f5f\"}, \"marker\": {\"line\": {\"color\": \"#E5ECF6\", \"width\": 0.5}}, \"type\": \"bar\"}], \"barpolar\": [{\"marker\": {\"line\": {\"color\": \"#E5ECF6\", \"width\": 0.5}}, \"type\": \"barpolar\"}], \"carpet\": [{\"aaxis\": {\"endlinecolor\": \"#2a3f5f\", \"gridcolor\": \"white\", \"linecolor\": \"white\", \"minorgridcolor\": \"white\", \"startlinecolor\": \"#2a3f5f\"}, \"baxis\": {\"endlinecolor\": \"#2a3f5f\", \"gridcolor\": \"white\", \"linecolor\": \"white\", \"minorgridcolor\": \"white\", \"startlinecolor\": \"#2a3f5f\"}, \"type\": \"carpet\"}], \"choropleth\": [{\"colorbar\": {\"outlinewidth\": 0, \"ticks\": \"\"}, \"type\": \"choropleth\"}], \"contour\": [{\"colorbar\": {\"outlinewidth\": 0, \"ticks\": \"\"}, \"colorscale\": [[0.0, \"#0d0887\"], [0.1111111111111111, \"#46039f\"], [0.2222222222222222, \"#7201a8\"], [0.3333333333333333, \"#9c179e\"], [0.4444444444444444, \"#bd3786\"], [0.5555555555555556, \"#d8576b\"], [0.6666666666666666, \"#ed7953\"], [0.7777777777777778, \"#fb9f3a\"], [0.8888888888888888, \"#fdca26\"], [1.0, \"#f0f921\"]], \"type\": \"contour\"}], \"contourcarpet\": [{\"colorbar\": {\"outlinewidth\": 0, \"ticks\": \"\"}, \"type\": \"contourcarpet\"}], \"heatmap\": [{\"colorbar\": {\"outlinewidth\": 0, \"ticks\": \"\"}, \"colorscale\": [[0.0, \"#0d0887\"], [0.1111111111111111, \"#46039f\"], [0.2222222222222222, \"#7201a8\"], [0.3333333333333333, \"#9c179e\"], [0.4444444444444444, \"#bd3786\"], [0.5555555555555556, \"#d8576b\"], [0.6666666666666666, \"#ed7953\"], [0.7777777777777778, \"#fb9f3a\"], [0.8888888888888888, \"#fdca26\"], [1.0, \"#f0f921\"]], \"type\": \"heatmap\"}], \"heatmapgl\": [{\"colorbar\": {\"outlinewidth\": 0, \"ticks\": \"\"}, \"colorscale\": [[0.0, \"#0d0887\"], [0.1111111111111111, \"#46039f\"], [0.2222222222222222, \"#7201a8\"], [0.3333333333333333, \"#9c179e\"], [0.4444444444444444, \"#bd3786\"], [0.5555555555555556, \"#d8576b\"], [0.6666666666666666, \"#ed7953\"], [0.7777777777777778, \"#fb9f3a\"], [0.8888888888888888, \"#fdca26\"], [1.0, \"#f0f921\"]], \"type\": \"heatmapgl\"}], \"histogram\": [{\"marker\": {\"colorbar\": {\"outlinewidth\": 0, \"ticks\": \"\"}}, \"type\": \"histogram\"}], \"histogram2d\": [{\"colorbar\": {\"outlinewidth\": 0, \"ticks\": \"\"}, \"colorscale\": [[0.0, \"#0d0887\"], [0.1111111111111111, \"#46039f\"], [0.2222222222222222, \"#7201a8\"], [0.3333333333333333, \"#9c179e\"], [0.4444444444444444, \"#bd3786\"], [0.5555555555555556, \"#d8576b\"], [0.6666666666666666, \"#ed7953\"], [0.7777777777777778, \"#fb9f3a\"], [0.8888888888888888, \"#fdca26\"], [1.0, \"#f0f921\"]], \"type\": \"histogram2d\"}], \"histogram2dcontour\": [{\"colorbar\": {\"outlinewidth\": 0, \"ticks\": \"\"}, \"colorscale\": [[0.0, \"#0d0887\"], [0.1111111111111111, \"#46039f\"], [0.2222222222222222, \"#7201a8\"], [0.3333333333333333, \"#9c179e\"], [0.4444444444444444, \"#bd3786\"], [0.5555555555555556, \"#d8576b\"], [0.6666666666666666, \"#ed7953\"], [0.7777777777777778, \"#fb9f3a\"], [0.8888888888888888, \"#fdca26\"], [1.0, \"#f0f921\"]], \"type\": \"histogram2dcontour\"}], \"mesh3d\": [{\"colorbar\": {\"outlinewidth\": 0, \"ticks\": \"\"}, \"type\": \"mesh3d\"}], \"parcoords\": [{\"line\": {\"colorbar\": {\"outlinewidth\": 0, \"ticks\": \"\"}}, \"type\": \"parcoords\"}], \"pie\": [{\"automargin\": true, \"type\": \"pie\"}], \"scatter\": [{\"marker\": {\"colorbar\": {\"outlinewidth\": 0, \"ticks\": \"\"}}, \"type\": \"scatter\"}], \"scatter3d\": [{\"line\": {\"colorbar\": {\"outlinewidth\": 0, \"ticks\": \"\"}}, \"marker\": {\"colorbar\": {\"outlinewidth\": 0, \"ticks\": \"\"}}, \"type\": \"scatter3d\"}], \"scattercarpet\": [{\"marker\": {\"colorbar\": {\"outlinewidth\": 0, \"ticks\": \"\"}}, \"type\": \"scattercarpet\"}], \"scattergeo\": [{\"marker\": {\"colorbar\": {\"outlinewidth\": 0, \"ticks\": \"\"}}, \"type\": \"scattergeo\"}], \"scattergl\": [{\"marker\": {\"colorbar\": {\"outlinewidth\": 0, \"ticks\": \"\"}}, \"type\": \"scattergl\"}], \"scattermapbox\": [{\"marker\": {\"colorbar\": {\"outlinewidth\": 0, \"ticks\": \"\"}}, \"type\": \"scattermapbox\"}], \"scatterpolar\": [{\"marker\": {\"colorbar\": {\"outlinewidth\": 0, \"ticks\": \"\"}}, \"type\": \"scatterpolar\"}], \"scatterpolargl\": [{\"marker\": {\"colorbar\": {\"outlinewidth\": 0, \"ticks\": \"\"}}, \"type\": \"scatterpolargl\"}], \"scatterternary\": [{\"marker\": {\"colorbar\": {\"outlinewidth\": 0, \"ticks\": \"\"}}, \"type\": \"scatterternary\"}], \"surface\": [{\"colorbar\": {\"outlinewidth\": 0, \"ticks\": \"\"}, \"colorscale\": [[0.0, \"#0d0887\"], [0.1111111111111111, \"#46039f\"], [0.2222222222222222, \"#7201a8\"], [0.3333333333333333, \"#9c179e\"], [0.4444444444444444, \"#bd3786\"], [0.5555555555555556, \"#d8576b\"], [0.6666666666666666, \"#ed7953\"], [0.7777777777777778, \"#fb9f3a\"], [0.8888888888888888, \"#fdca26\"], [1.0, \"#f0f921\"]], \"type\": \"surface\"}], \"table\": [{\"cells\": {\"fill\": {\"color\": \"#EBF0F8\"}, \"line\": {\"color\": \"white\"}}, \"header\": {\"fill\": {\"color\": \"#C8D4E3\"}, \"line\": {\"color\": \"white\"}}, \"type\": \"table\"}]}, \"layout\": {\"annotationdefaults\": {\"arrowcolor\": \"#2a3f5f\", \"arrowhead\": 0, \"arrowwidth\": 1}, \"coloraxis\": {\"colorbar\": {\"outlinewidth\": 0, \"ticks\": \"\"}}, \"colorscale\": {\"diverging\": [[0, \"#8e0152\"], [0.1, \"#c51b7d\"], [0.2, \"#de77ae\"], [0.3, \"#f1b6da\"], [0.4, \"#fde0ef\"], [0.5, \"#f7f7f7\"], [0.6, \"#e6f5d0\"], [0.7, \"#b8e186\"], [0.8, \"#7fbc41\"], [0.9, \"#4d9221\"], [1, \"#276419\"]], \"sequential\": [[0.0, \"#0d0887\"], [0.1111111111111111, \"#46039f\"], [0.2222222222222222, \"#7201a8\"], [0.3333333333333333, \"#9c179e\"], [0.4444444444444444, \"#bd3786\"], [0.5555555555555556, \"#d8576b\"], [0.6666666666666666, \"#ed7953\"], [0.7777777777777778, \"#fb9f3a\"], [0.8888888888888888, \"#fdca26\"], [1.0, \"#f0f921\"]], \"sequentialminus\": [[0.0, \"#0d0887\"], [0.1111111111111111, \"#46039f\"], [0.2222222222222222, \"#7201a8\"], [0.3333333333333333, \"#9c179e\"], [0.4444444444444444, \"#bd3786\"], [0.5555555555555556, \"#d8576b\"], [0.6666666666666666, \"#ed7953\"], [0.7777777777777778, \"#fb9f3a\"], [0.8888888888888888, \"#fdca26\"], [1.0, \"#f0f921\"]]}, \"colorway\": [\"#636efa\", \"#EF553B\", \"#00cc96\", \"#ab63fa\", \"#FFA15A\", \"#19d3f3\", \"#FF6692\", \"#B6E880\", \"#FF97FF\", \"#FECB52\"], \"font\": {\"color\": \"#2a3f5f\"}, \"geo\": {\"bgcolor\": \"white\", \"lakecolor\": \"white\", \"landcolor\": \"#E5ECF6\", \"showlakes\": true, \"showland\": true, \"subunitcolor\": \"white\"}, \"hoverlabel\": {\"align\": \"left\"}, \"hovermode\": \"closest\", \"mapbox\": {\"style\": \"light\"}, \"paper_bgcolor\": \"white\", \"plot_bgcolor\": \"#E5ECF6\", \"polar\": {\"angularaxis\": {\"gridcolor\": \"white\", \"linecolor\": \"white\", \"ticks\": \"\"}, \"bgcolor\": \"#E5ECF6\", \"radialaxis\": {\"gridcolor\": \"white\", \"linecolor\": \"white\", \"ticks\": \"\"}}, \"scene\": {\"xaxis\": {\"backgroundcolor\": \"#E5ECF6\", \"gridcolor\": \"white\", \"gridwidth\": 2, \"linecolor\": \"white\", \"showbackground\": true, \"ticks\": \"\", \"zerolinecolor\": \"white\"}, \"yaxis\": {\"backgroundcolor\": \"#E5ECF6\", \"gridcolor\": \"white\", \"gridwidth\": 2, \"linecolor\": \"white\", \"showbackground\": true, \"ticks\": \"\", \"zerolinecolor\": \"white\"}, \"zaxis\": {\"backgroundcolor\": \"#E5ECF6\", \"gridcolor\": \"white\", \"gridwidth\": 2, \"linecolor\": \"white\", \"showbackground\": true, \"ticks\": \"\", \"zerolinecolor\": \"white\"}}, \"shapedefaults\": {\"line\": {\"color\": \"#2a3f5f\"}}, \"ternary\": {\"aaxis\": {\"gridcolor\": \"white\", \"linecolor\": \"white\", \"ticks\": \"\"}, \"baxis\": {\"gridcolor\": \"white\", \"linecolor\": \"white\", \"ticks\": \"\"}, \"bgcolor\": \"#E5ECF6\", \"caxis\": {\"gridcolor\": \"white\", \"linecolor\": \"white\", \"ticks\": \"\"}}, \"title\": {\"x\": 0.05}, \"xaxis\": {\"automargin\": true, \"gridcolor\": \"white\", \"linecolor\": \"white\", \"ticks\": \"\", \"title\": {\"standoff\": 15}, \"zerolinecolor\": \"white\", \"zerolinewidth\": 2}, \"yaxis\": {\"automargin\": true, \"gridcolor\": \"white\", \"linecolor\": \"white\", \"ticks\": \"\", \"title\": {\"standoff\": 15}, \"zerolinecolor\": \"white\", \"zerolinewidth\": 2}}}, \"width\": 900, \"xaxis\": {\"rangeselector\": {\"buttons\": [{\"count\": 7, \"label\": \"1w\", \"step\": \"day\", \"stepmode\": \"backward\"}, {\"count\": 1, \"label\": \"1m\", \"step\": \"month\", \"stepmode\": \"backward\"}, {\"count\": 6, \"label\": \"6m\", \"step\": \"month\", \"stepmode\": \"backward\"}, {\"count\": 1, \"label\": \"1y\", \"step\": \"year\", \"stepmode\": \"backward\"}, {\"step\": \"all\"}]}, \"rangeslider\": {\"visible\": true}, \"title\": {\"text\": \"ds\"}, \"type\": \"date\"}, \"yaxis\": {\"title\": {\"text\": \"y\"}}},\n",
              "                        {\"responsive\": true}\n",
              "                    ).then(function(){\n",
              "                            \n",
              "var gd = document.getElementById('040339be-9bef-4c2b-b172-c19b84382f45');\n",
              "var x = new MutationObserver(function (mutations, observer) {{\n",
              "        var display = window.getComputedStyle(gd).display;\n",
              "        if (!display || display === 'none') {{\n",
              "            console.log([gd, 'removed!']);\n",
              "            Plotly.purge(gd);\n",
              "            observer.disconnect();\n",
              "        }}\n",
              "}});\n",
              "\n",
              "// Listen for the removal of the full notebook cells\n",
              "var notebookContainer = gd.closest('#notebook-container');\n",
              "if (notebookContainer) {{\n",
              "    x.observe(notebookContainer, {childList: true});\n",
              "}}\n",
              "\n",
              "// Listen for the clearing of the current output cell\n",
              "var outputEl = gd.closest('.output');\n",
              "if (outputEl) {{\n",
              "    x.observe(outputEl, {childList: true});\n",
              "}}\n",
              "\n",
              "                        })\n",
              "                };\n",
              "                \n",
              "            </script>\n",
              "        </div>\n",
              "</body>\n",
              "</html>"
            ]
          },
          "metadata": {
            "tags": []
          }
        }
      ]
    },
    {
      "cell_type": "code",
      "metadata": {
        "id": "ltmiafS5QFSE",
        "colab_type": "code",
        "outputId": "0ca71e29-f201-4825-ea22-d4d4fdd5c150",
        "colab": {
          "base_uri": "https://localhost:8080/",
          "height": 284
        }
      },
      "source": [
        "forecast_pd[['ds', 'yhat', 'yhat_lower', 'yhat_upper']].iloc[55:63]\n"
      ],
      "execution_count": 24,
      "outputs": [
        {
          "output_type": "execute_result",
          "data": {
            "text/html": [
              "<div>\n",
              "<style scoped>\n",
              "    .dataframe tbody tr th:only-of-type {\n",
              "        vertical-align: middle;\n",
              "    }\n",
              "\n",
              "    .dataframe tbody tr th {\n",
              "        vertical-align: top;\n",
              "    }\n",
              "\n",
              "    .dataframe thead th {\n",
              "        text-align: right;\n",
              "    }\n",
              "</style>\n",
              "<table border=\"1\" class=\"dataframe\">\n",
              "  <thead>\n",
              "    <tr style=\"text-align: right;\">\n",
              "      <th></th>\n",
              "      <th>ds</th>\n",
              "      <th>yhat</th>\n",
              "      <th>yhat_lower</th>\n",
              "      <th>yhat_upper</th>\n",
              "    </tr>\n",
              "  </thead>\n",
              "  <tbody>\n",
              "    <tr>\n",
              "      <th>55</th>\n",
              "      <td>2020-03-25</td>\n",
              "      <td>653.350051</td>\n",
              "      <td>647.113207</td>\n",
              "      <td>659.326819</td>\n",
              "    </tr>\n",
              "    <tr>\n",
              "      <th>56</th>\n",
              "      <td>2020-03-26</td>\n",
              "      <td>731.945588</td>\n",
              "      <td>725.912934</td>\n",
              "      <td>737.483528</td>\n",
              "    </tr>\n",
              "    <tr>\n",
              "      <th>57</th>\n",
              "      <td>2020-03-27</td>\n",
              "      <td>882.912135</td>\n",
              "      <td>877.370487</td>\n",
              "      <td>888.530004</td>\n",
              "    </tr>\n",
              "    <tr>\n",
              "      <th>58</th>\n",
              "      <td>2020-03-28</td>\n",
              "      <td>988.424589</td>\n",
              "      <td>982.709976</td>\n",
              "      <td>994.122175</td>\n",
              "    </tr>\n",
              "    <tr>\n",
              "      <th>59</th>\n",
              "      <td>2020-03-29</td>\n",
              "      <td>1009.555767</td>\n",
              "      <td>1002.861531</td>\n",
              "      <td>1016.312916</td>\n",
              "    </tr>\n",
              "    <tr>\n",
              "      <th>60</th>\n",
              "      <td>2020-03-30</td>\n",
              "      <td>1013.013430</td>\n",
              "      <td>1002.329750</td>\n",
              "      <td>1023.694449</td>\n",
              "    </tr>\n",
              "    <tr>\n",
              "      <th>61</th>\n",
              "      <td>2020-03-31</td>\n",
              "      <td>897.117518</td>\n",
              "      <td>882.694538</td>\n",
              "      <td>911.797158</td>\n",
              "    </tr>\n",
              "    <tr>\n",
              "      <th>62</th>\n",
              "      <td>2020-04-01</td>\n",
              "      <td>759.641225</td>\n",
              "      <td>741.029067</td>\n",
              "      <td>777.599128</td>\n",
              "    </tr>\n",
              "  </tbody>\n",
              "</table>\n",
              "</div>"
            ],
            "text/plain": [
              "           ds         yhat   yhat_lower   yhat_upper\n",
              "55 2020-03-25   653.350051   647.113207   659.326819\n",
              "56 2020-03-26   731.945588   725.912934   737.483528\n",
              "57 2020-03-27   882.912135   877.370487   888.530004\n",
              "58 2020-03-28   988.424589   982.709976   994.122175\n",
              "59 2020-03-29  1009.555767  1002.861531  1016.312916\n",
              "60 2020-03-30  1013.013430  1002.329750  1023.694449\n",
              "61 2020-03-31   897.117518   882.694538   911.797158\n",
              "62 2020-04-01   759.641225   741.029067   777.599128"
            ]
          },
          "metadata": {
            "tags": []
          },
          "execution_count": 24
        }
      ]
    },
    {
      "cell_type": "code",
      "metadata": {
        "id": "VOAFJVK_Qsv-",
        "colab_type": "code",
        "colab": {}
      },
      "source": [
        "fpd = pd.DataFrame(forecast_pd[['ds', 'yhat', 'yhat_lower', 'yhat_upper']])"
      ],
      "execution_count": 0,
      "outputs": []
    },
    {
      "cell_type": "code",
      "metadata": {
        "id": "3sGD6UGoSaOt",
        "colab_type": "code",
        "colab": {}
      },
      "source": [
        "fpd.rename(columns= {'ds':'Date', 'yhat':'Predicted Cases'},inplace=True)"
      ],
      "execution_count": 0,
      "outputs": []
    },
    {
      "cell_type": "code",
      "metadata": {
        "id": "06csvcyoSqI_",
        "colab_type": "code",
        "colab": {}
      },
      "source": [
        "fpd.drop(['yhat_lower','yhat_upper'],axis=1,inplace=True)"
      ],
      "execution_count": 0,
      "outputs": []
    },
    {
      "cell_type": "markdown",
      "metadata": {
        "id": "Yyq1x34bUFK8",
        "colab_type": "text"
      },
      "source": [
        "## Predicted Cases for upcoming days"
      ]
    },
    {
      "cell_type": "code",
      "metadata": {
        "id": "okCM0bBYTOX4",
        "colab_type": "code",
        "outputId": "fff54e8b-152c-4e04-aad5-a6f0bc327d2f",
        "colab": {
          "base_uri": "https://localhost:8080/",
          "height": 106
        }
      },
      "source": [
        "fpd[(fpd['Date']>= '2020-03-30') & (fpd['Date']<= '2020-03-31')]"
      ],
      "execution_count": 28,
      "outputs": [
        {
          "output_type": "execute_result",
          "data": {
            "text/html": [
              "<div>\n",
              "<style scoped>\n",
              "    .dataframe tbody tr th:only-of-type {\n",
              "        vertical-align: middle;\n",
              "    }\n",
              "\n",
              "    .dataframe tbody tr th {\n",
              "        vertical-align: top;\n",
              "    }\n",
              "\n",
              "    .dataframe thead th {\n",
              "        text-align: right;\n",
              "    }\n",
              "</style>\n",
              "<table border=\"1\" class=\"dataframe\">\n",
              "  <thead>\n",
              "    <tr style=\"text-align: right;\">\n",
              "      <th></th>\n",
              "      <th>Date</th>\n",
              "      <th>Predicted Cases</th>\n",
              "    </tr>\n",
              "  </thead>\n",
              "  <tbody>\n",
              "    <tr>\n",
              "      <th>60</th>\n",
              "      <td>2020-03-30</td>\n",
              "      <td>1013.013430</td>\n",
              "    </tr>\n",
              "    <tr>\n",
              "      <th>61</th>\n",
              "      <td>2020-03-31</td>\n",
              "      <td>897.117518</td>\n",
              "    </tr>\n",
              "  </tbody>\n",
              "</table>\n",
              "</div>"
            ],
            "text/plain": [
              "         Date  Predicted Cases\n",
              "60 2020-03-30      1013.013430\n",
              "61 2020-03-31       897.117518"
            ]
          },
          "metadata": {
            "tags": []
          },
          "execution_count": 28
        }
      ]
    },
    {
      "cell_type": "markdown",
      "metadata": {
        "id": "gFbQwAffT8gO",
        "colab_type": "text"
      },
      "source": [
        "##Highest Number of Predicted Cases"
      ]
    },
    {
      "cell_type": "code",
      "metadata": {
        "id": "ycVDGrHeTf2F",
        "colab_type": "code",
        "outputId": "e8a6cc63-2e4c-4149-da4a-c5427ed0ce37",
        "colab": {
          "base_uri": "https://localhost:8080/",
          "height": 50
        }
      },
      "source": [
        "print(\"Date: \",fpd.sort_values(by = 'Predicted Cases',ascending=False).iloc[1].Date.date(), \"\\n\",\"Highest Predicted:\",round(fpd.sort_values(by = 'Predicted Cases',ascending=False).iloc[1]['Predicted Cases']))"
      ],
      "execution_count": 29,
      "outputs": [
        {
          "output_type": "stream",
          "text": [
            "Date:  2020-05-12 \n",
            " Highest Predicted: 11900.0\n"
          ],
          "name": "stdout"
        }
      ]
    },
    {
      "cell_type": "markdown",
      "metadata": {
        "id": "9pnYjnAH8oq_",
        "colab_type": "text"
      },
      "source": [
        "# Countries With Most Number of Cases for the upcoming days"
      ]
    },
    {
      "cell_type": "code",
      "metadata": {
        "id": "vnrCSZcVUqNg",
        "colab_type": "code",
        "outputId": "4ab2c684-50f2-4916-b263-9cd1f88e145a",
        "colab": {
          "base_uri": "https://localhost:8080/",
          "height": 195
        }
      },
      "source": [
        "train.head()"
      ],
      "execution_count": 30,
      "outputs": [
        {
          "output_type": "execute_result",
          "data": {
            "text/html": [
              "<div>\n",
              "<style scoped>\n",
              "    .dataframe tbody tr th:only-of-type {\n",
              "        vertical-align: middle;\n",
              "    }\n",
              "\n",
              "    .dataframe tbody tr th {\n",
              "        vertical-align: top;\n",
              "    }\n",
              "\n",
              "    .dataframe thead th {\n",
              "        text-align: right;\n",
              "    }\n",
              "</style>\n",
              "<table border=\"1\" class=\"dataframe\">\n",
              "  <thead>\n",
              "    <tr style=\"text-align: right;\">\n",
              "      <th></th>\n",
              "      <th>Date</th>\n",
              "      <th>country</th>\n",
              "      <th>state</th>\n",
              "      <th>Confirmed</th>\n",
              "      <th>Deaths</th>\n",
              "    </tr>\n",
              "  </thead>\n",
              "  <tbody>\n",
              "    <tr>\n",
              "      <th>0</th>\n",
              "      <td>2020-01-22</td>\n",
              "      <td>Afghanistan</td>\n",
              "      <td>Not Available</td>\n",
              "      <td>0.0</td>\n",
              "      <td>0.0</td>\n",
              "    </tr>\n",
              "    <tr>\n",
              "      <th>1</th>\n",
              "      <td>2020-01-23</td>\n",
              "      <td>Afghanistan</td>\n",
              "      <td>Not Available</td>\n",
              "      <td>0.0</td>\n",
              "      <td>0.0</td>\n",
              "    </tr>\n",
              "    <tr>\n",
              "      <th>2</th>\n",
              "      <td>2020-01-24</td>\n",
              "      <td>Afghanistan</td>\n",
              "      <td>Not Available</td>\n",
              "      <td>0.0</td>\n",
              "      <td>0.0</td>\n",
              "    </tr>\n",
              "    <tr>\n",
              "      <th>3</th>\n",
              "      <td>2020-01-25</td>\n",
              "      <td>Afghanistan</td>\n",
              "      <td>Not Available</td>\n",
              "      <td>0.0</td>\n",
              "      <td>0.0</td>\n",
              "    </tr>\n",
              "    <tr>\n",
              "      <th>4</th>\n",
              "      <td>2020-01-26</td>\n",
              "      <td>Afghanistan</td>\n",
              "      <td>Not Available</td>\n",
              "      <td>0.0</td>\n",
              "      <td>0.0</td>\n",
              "    </tr>\n",
              "  </tbody>\n",
              "</table>\n",
              "</div>"
            ],
            "text/plain": [
              "         Date      country          state  Confirmed  Deaths\n",
              "0  2020-01-22  Afghanistan  Not Available        0.0     0.0\n",
              "1  2020-01-23  Afghanistan  Not Available        0.0     0.0\n",
              "2  2020-01-24  Afghanistan  Not Available        0.0     0.0\n",
              "3  2020-01-25  Afghanistan  Not Available        0.0     0.0\n",
              "4  2020-01-26  Afghanistan  Not Available        0.0     0.0"
            ]
          },
          "metadata": {
            "tags": []
          },
          "execution_count": 30
        }
      ]
    },
    {
      "cell_type": "markdown",
      "metadata": {
        "id": "QS_oveBF95FS",
        "colab_type": "text"
      },
      "source": [
        "## Combine Provinces/States for:\n",
        "### 'Austrailia' 'Canada' 'China' 'Cruise Ship' 'Denmark' 'France' 'Netherlands' 'US' 'United Kingdom'"
      ]
    },
    {
      "cell_type": "code",
      "metadata": {
        "id": "BjodUAoY8xu3",
        "colab_type": "code",
        "colab": {}
      },
      "source": [
        "c_list = ['Austrailia', 'Canada', 'Cruise Ship', 'Denmark', 'France', 'Netherlands', 'US', 'United Kingdom']"
      ],
      "execution_count": 0,
      "outputs": []
    },
    {
      "cell_type": "code",
      "metadata": {
        "id": "Ttlu9JDS92KT",
        "colab_type": "code",
        "outputId": "d20f0413-9273-4c4d-b7f3-4db8b3f1e4df",
        "colab": {
          "base_uri": "https://localhost:8080/",
          "height": 195
        }
      },
      "source": [
        "#create a copy df for train_n2 and delete the above listed countries from the list AND China\n",
        "train_ctry = train_n2.copy() \n",
        "for clst in c_list:\n",
        "  train_ctry.drop(train_ctry[train_ctry['country'] == clst].index, inplace = True)\n",
        "train_ctry.drop(train_ctry[train_ctry['country'] == 'China'].index, inplace = True)\n",
        "train_ctry.head()"
      ],
      "execution_count": 32,
      "outputs": [
        {
          "output_type": "execute_result",
          "data": {
            "text/html": [
              "<div>\n",
              "<style scoped>\n",
              "    .dataframe tbody tr th:only-of-type {\n",
              "        vertical-align: middle;\n",
              "    }\n",
              "\n",
              "    .dataframe tbody tr th {\n",
              "        vertical-align: top;\n",
              "    }\n",
              "\n",
              "    .dataframe thead th {\n",
              "        text-align: right;\n",
              "    }\n",
              "</style>\n",
              "<table border=\"1\" class=\"dataframe\">\n",
              "  <thead>\n",
              "    <tr style=\"text-align: right;\">\n",
              "      <th></th>\n",
              "      <th>Date</th>\n",
              "      <th>country</th>\n",
              "      <th>Confirmed</th>\n",
              "      <th>Deaths</th>\n",
              "    </tr>\n",
              "  </thead>\n",
              "  <tbody>\n",
              "    <tr>\n",
              "      <th>0</th>\n",
              "      <td>2020-01-22</td>\n",
              "      <td>Afghanistan</td>\n",
              "      <td>0.0</td>\n",
              "      <td>0.0</td>\n",
              "    </tr>\n",
              "    <tr>\n",
              "      <th>1</th>\n",
              "      <td>2020-01-23</td>\n",
              "      <td>Afghanistan</td>\n",
              "      <td>0.0</td>\n",
              "      <td>0.0</td>\n",
              "    </tr>\n",
              "    <tr>\n",
              "      <th>2</th>\n",
              "      <td>2020-01-24</td>\n",
              "      <td>Afghanistan</td>\n",
              "      <td>0.0</td>\n",
              "      <td>0.0</td>\n",
              "    </tr>\n",
              "    <tr>\n",
              "      <th>3</th>\n",
              "      <td>2020-01-25</td>\n",
              "      <td>Afghanistan</td>\n",
              "      <td>0.0</td>\n",
              "      <td>0.0</td>\n",
              "    </tr>\n",
              "    <tr>\n",
              "      <th>4</th>\n",
              "      <td>2020-01-26</td>\n",
              "      <td>Afghanistan</td>\n",
              "      <td>0.0</td>\n",
              "      <td>0.0</td>\n",
              "    </tr>\n",
              "  </tbody>\n",
              "</table>\n",
              "</div>"
            ],
            "text/plain": [
              "         Date      country  Confirmed  Deaths\n",
              "0  2020-01-22  Afghanistan        0.0     0.0\n",
              "1  2020-01-23  Afghanistan        0.0     0.0\n",
              "2  2020-01-24  Afghanistan        0.0     0.0\n",
              "3  2020-01-25  Afghanistan        0.0     0.0\n",
              "4  2020-01-26  Afghanistan        0.0     0.0"
            ]
          },
          "metadata": {
            "tags": []
          },
          "execution_count": 32
        }
      ]
    },
    {
      "cell_type": "code",
      "metadata": {
        "id": "VWveHA-gTtMN",
        "colab_type": "code",
        "colab": {
          "base_uri": "https://localhost:8080/",
          "height": 638
        },
        "outputId": "dcd497cb-6e51-49ad-ec3f-25085872c217"
      },
      "source": [
        "train_n2.country.unique()\n"
      ],
      "execution_count": 33,
      "outputs": [
        {
          "output_type": "execute_result",
          "data": {
            "text/plain": [
              "array(['Afghanistan', 'Albania', 'Algeria', 'Andorra', 'Angola',\n",
              "       'Antigua and Barbuda', 'Argentina', 'Armenia', 'Australia',\n",
              "       'Austria', 'Azerbaijan', 'Bahamas', 'Bahrain', 'Bangladesh',\n",
              "       'Barbados', 'Belarus', 'Belgium', 'Belize', 'Benin', 'Bhutan',\n",
              "       'Bolivia', 'Bosnia and Herzegovina', 'Brazil', 'Brunei',\n",
              "       'Bulgaria', 'Burkina Faso', 'Burma', 'Cabo Verde', 'Cambodia',\n",
              "       'Cameroon', 'Canada', 'Central African Republic', 'Chad', 'Chile',\n",
              "       'China', 'Colombia', 'Congo (Brazzaville)', 'Congo (Kinshasa)',\n",
              "       'Costa Rica', \"Cote d'Ivoire\", 'Croatia', 'Cuba', 'Cyprus',\n",
              "       'Czechia', 'Denmark', 'Diamond Princess', 'Djibouti', 'Dominica',\n",
              "       'Dominican Republic', 'Ecuador', 'Egypt', 'El Salvador',\n",
              "       'Equatorial Guinea', 'Eritrea', 'Estonia', 'Eswatini', 'Ethiopia',\n",
              "       'Fiji', 'Finland', 'France', 'Gabon', 'Gambia', 'Georgia',\n",
              "       'Germany', 'Ghana', 'Greece', 'Grenada', 'Guatemala',\n",
              "       'Guinea-Bissau', 'Guinea', 'Guyana', 'Haiti', 'Holy See',\n",
              "       'Honduras', 'Hungary', 'Iceland', 'India', 'Indonesia', 'Iran',\n",
              "       'Iraq', 'Ireland', 'Israel', 'Italy', 'Jamaica', 'Japan', 'Jordan',\n",
              "       'Kazakhstan', 'Kenya', 'Korea, South', 'Kosovo', 'Kuwait',\n",
              "       'Kyrgyzstan', 'Laos', 'Latvia', 'Lebanon', 'Liberia', 'Libya',\n",
              "       'Liechtenstein', 'Lithuania', 'Luxembourg', 'MS Zaandam',\n",
              "       'Madagascar', 'Malaysia', 'Maldives', 'Mali', 'Malta',\n",
              "       'Mauritania', 'Mauritius', 'Mexico', 'Moldova', 'Monaco',\n",
              "       'Mongolia', 'Montenegro', 'Morocco', 'Mozambique', 'Namibia',\n",
              "       'Nepal', 'Netherlands', 'New Zealand', 'Nicaragua', 'Niger',\n",
              "       'Nigeria', 'North Macedonia', 'Norway', 'Oman', 'Pakistan',\n",
              "       'Panama', 'Papua New Guinea', 'Paraguay', 'Peru', 'Philippines',\n",
              "       'Poland', 'Portugal', 'Qatar', 'Romania', 'Russia', 'Rwanda',\n",
              "       'Saint Kitts and Nevis', 'Saint Lucia',\n",
              "       'Saint Vincent and the Grenadines', 'San Marino', 'Saudi Arabia',\n",
              "       'Senegal', 'Serbia', 'Seychelles', 'Singapore', 'Slovakia',\n",
              "       'Slovenia', 'Somalia', 'South Africa', 'Spain', 'Sri Lanka',\n",
              "       'Sudan', 'Suriname', 'Sweden', 'Switzerland', 'Syria', 'Taiwan*',\n",
              "       'Tanzania', 'Thailand', 'Timor-Leste', 'Togo',\n",
              "       'Trinidad and Tobago', 'Tunisia', 'Turkey', 'US', 'Uganda',\n",
              "       'Ukraine', 'United Arab Emirates', 'United Kingdom', 'Uruguay',\n",
              "       'Uzbekistan', 'Venezuela', 'Vietnam', 'West Bank and Gaza',\n",
              "       'Zambia', 'Zimbabwe'], dtype=object)"
            ]
          },
          "metadata": {
            "tags": []
          },
          "execution_count": 33
        }
      ]
    },
    {
      "cell_type": "code",
      "metadata": {
        "id": "93J8UWxoCmae",
        "colab_type": "code",
        "outputId": "4060d92f-0bd2-4ddd-f41e-4bca223dad5b",
        "colab": {
          "base_uri": "https://localhost:8080/",
          "height": 168
        }
      },
      "source": [
        "#Creating a dataframe with combined data \n",
        "train_ch = train_n2[train_n2['country']=='China'].groupby('Date').aggregate(np.sum).reset_index()\n",
        "train_ch['country'] = 'China'\n",
        "for obj in c_list:\n",
        "  train_temp = train_n2[train_n2['country']==obj].groupby('Date').aggregate(np.sum).reset_index()\n",
        "  train_temp['country'] = obj\n",
        "  train_ch = train_ch.append(train_temp)\n",
        "\n",
        "train_ch.info()"
      ],
      "execution_count": 34,
      "outputs": [
        {
          "output_type": "stream",
          "text": [
            "<class 'pandas.core.frame.DataFrame'>\n",
            "Int64Index: 469 entries, 0 to 66\n",
            "Data columns (total 4 columns):\n",
            "Date         469 non-null object\n",
            "Confirmed    469 non-null float64\n",
            "Deaths       469 non-null float64\n",
            "country      469 non-null object\n",
            "dtypes: float64(2), object(2)\n",
            "memory usage: 18.3+ KB\n"
          ],
          "name": "stdout"
        }
      ]
    },
    {
      "cell_type": "code",
      "metadata": {
        "id": "NC5Me0KMCvtn",
        "colab_type": "code",
        "outputId": "8cf81f1b-09b6-46e6-b8a6-963c4822560a",
        "colab": {
          "base_uri": "https://localhost:8080/",
          "height": 402
        }
      },
      "source": [
        "train_ctry = train_ctry.append(train_ch,sort=True).copy()\n",
        "train_ctry[train_ctry.country=='China']"
      ],
      "execution_count": 35,
      "outputs": [
        {
          "output_type": "execute_result",
          "data": {
            "text/html": [
              "<div>\n",
              "<style scoped>\n",
              "    .dataframe tbody tr th:only-of-type {\n",
              "        vertical-align: middle;\n",
              "    }\n",
              "\n",
              "    .dataframe tbody tr th {\n",
              "        vertical-align: top;\n",
              "    }\n",
              "\n",
              "    .dataframe thead th {\n",
              "        text-align: right;\n",
              "    }\n",
              "</style>\n",
              "<table border=\"1\" class=\"dataframe\">\n",
              "  <thead>\n",
              "    <tr style=\"text-align: right;\">\n",
              "      <th></th>\n",
              "      <th>Confirmed</th>\n",
              "      <th>Date</th>\n",
              "      <th>Deaths</th>\n",
              "      <th>country</th>\n",
              "    </tr>\n",
              "  </thead>\n",
              "  <tbody>\n",
              "    <tr>\n",
              "      <th>0</th>\n",
              "      <td>548.0</td>\n",
              "      <td>2020-01-22</td>\n",
              "      <td>17.0</td>\n",
              "      <td>China</td>\n",
              "    </tr>\n",
              "    <tr>\n",
              "      <th>1</th>\n",
              "      <td>643.0</td>\n",
              "      <td>2020-01-23</td>\n",
              "      <td>18.0</td>\n",
              "      <td>China</td>\n",
              "    </tr>\n",
              "    <tr>\n",
              "      <th>2</th>\n",
              "      <td>920.0</td>\n",
              "      <td>2020-01-24</td>\n",
              "      <td>26.0</td>\n",
              "      <td>China</td>\n",
              "    </tr>\n",
              "    <tr>\n",
              "      <th>3</th>\n",
              "      <td>1406.0</td>\n",
              "      <td>2020-01-25</td>\n",
              "      <td>42.0</td>\n",
              "      <td>China</td>\n",
              "    </tr>\n",
              "    <tr>\n",
              "      <th>4</th>\n",
              "      <td>2075.0</td>\n",
              "      <td>2020-01-26</td>\n",
              "      <td>56.0</td>\n",
              "      <td>China</td>\n",
              "    </tr>\n",
              "    <tr>\n",
              "      <th>...</th>\n",
              "      <td>...</td>\n",
              "      <td>...</td>\n",
              "      <td>...</td>\n",
              "      <td>...</td>\n",
              "    </tr>\n",
              "    <tr>\n",
              "      <th>62</th>\n",
              "      <td>81591.0</td>\n",
              "      <td>2020-03-24</td>\n",
              "      <td>3281.0</td>\n",
              "      <td>China</td>\n",
              "    </tr>\n",
              "    <tr>\n",
              "      <th>63</th>\n",
              "      <td>81661.0</td>\n",
              "      <td>2020-03-25</td>\n",
              "      <td>3285.0</td>\n",
              "      <td>China</td>\n",
              "    </tr>\n",
              "    <tr>\n",
              "      <th>64</th>\n",
              "      <td>81782.0</td>\n",
              "      <td>2020-03-26</td>\n",
              "      <td>3291.0</td>\n",
              "      <td>China</td>\n",
              "    </tr>\n",
              "    <tr>\n",
              "      <th>65</th>\n",
              "      <td>81897.0</td>\n",
              "      <td>2020-03-27</td>\n",
              "      <td>3296.0</td>\n",
              "      <td>China</td>\n",
              "    </tr>\n",
              "    <tr>\n",
              "      <th>66</th>\n",
              "      <td>81999.0</td>\n",
              "      <td>2020-03-28</td>\n",
              "      <td>3299.0</td>\n",
              "      <td>China</td>\n",
              "    </tr>\n",
              "  </tbody>\n",
              "</table>\n",
              "<p>67 rows × 4 columns</p>\n",
              "</div>"
            ],
            "text/plain": [
              "    Confirmed        Date  Deaths country\n",
              "0       548.0  2020-01-22    17.0   China\n",
              "1       643.0  2020-01-23    18.0   China\n",
              "2       920.0  2020-01-24    26.0   China\n",
              "3      1406.0  2020-01-25    42.0   China\n",
              "4      2075.0  2020-01-26    56.0   China\n",
              "..        ...         ...     ...     ...\n",
              "62    81591.0  2020-03-24  3281.0   China\n",
              "63    81661.0  2020-03-25  3285.0   China\n",
              "64    81782.0  2020-03-26  3291.0   China\n",
              "65    81897.0  2020-03-27  3296.0   China\n",
              "66    81999.0  2020-03-28  3299.0   China\n",
              "\n",
              "[67 rows x 4 columns]"
            ]
          },
          "metadata": {
            "tags": []
          },
          "execution_count": 35
        }
      ]
    },
    {
      "cell_type": "code",
      "metadata": {
        "id": "qDjQMcpCHq69",
        "colab_type": "code",
        "outputId": "99563961-2740-4c33-ebdf-c8b0eb65d703",
        "colab": {
          "base_uri": "https://localhost:8080/",
          "height": 195
        }
      },
      "source": [
        "train_ctry.head()"
      ],
      "execution_count": 36,
      "outputs": [
        {
          "output_type": "execute_result",
          "data": {
            "text/html": [
              "<div>\n",
              "<style scoped>\n",
              "    .dataframe tbody tr th:only-of-type {\n",
              "        vertical-align: middle;\n",
              "    }\n",
              "\n",
              "    .dataframe tbody tr th {\n",
              "        vertical-align: top;\n",
              "    }\n",
              "\n",
              "    .dataframe thead th {\n",
              "        text-align: right;\n",
              "    }\n",
              "</style>\n",
              "<table border=\"1\" class=\"dataframe\">\n",
              "  <thead>\n",
              "    <tr style=\"text-align: right;\">\n",
              "      <th></th>\n",
              "      <th>Confirmed</th>\n",
              "      <th>Date</th>\n",
              "      <th>Deaths</th>\n",
              "      <th>country</th>\n",
              "    </tr>\n",
              "  </thead>\n",
              "  <tbody>\n",
              "    <tr>\n",
              "      <th>0</th>\n",
              "      <td>0.0</td>\n",
              "      <td>2020-01-22</td>\n",
              "      <td>0.0</td>\n",
              "      <td>Afghanistan</td>\n",
              "    </tr>\n",
              "    <tr>\n",
              "      <th>1</th>\n",
              "      <td>0.0</td>\n",
              "      <td>2020-01-23</td>\n",
              "      <td>0.0</td>\n",
              "      <td>Afghanistan</td>\n",
              "    </tr>\n",
              "    <tr>\n",
              "      <th>2</th>\n",
              "      <td>0.0</td>\n",
              "      <td>2020-01-24</td>\n",
              "      <td>0.0</td>\n",
              "      <td>Afghanistan</td>\n",
              "    </tr>\n",
              "    <tr>\n",
              "      <th>3</th>\n",
              "      <td>0.0</td>\n",
              "      <td>2020-01-25</td>\n",
              "      <td>0.0</td>\n",
              "      <td>Afghanistan</td>\n",
              "    </tr>\n",
              "    <tr>\n",
              "      <th>4</th>\n",
              "      <td>0.0</td>\n",
              "      <td>2020-01-26</td>\n",
              "      <td>0.0</td>\n",
              "      <td>Afghanistan</td>\n",
              "    </tr>\n",
              "  </tbody>\n",
              "</table>\n",
              "</div>"
            ],
            "text/plain": [
              "   Confirmed        Date  Deaths      country\n",
              "0        0.0  2020-01-22     0.0  Afghanistan\n",
              "1        0.0  2020-01-23     0.0  Afghanistan\n",
              "2        0.0  2020-01-24     0.0  Afghanistan\n",
              "3        0.0  2020-01-25     0.0  Afghanistan\n",
              "4        0.0  2020-01-26     0.0  Afghanistan"
            ]
          },
          "metadata": {
            "tags": []
          },
          "execution_count": 36
        }
      ]
    },
    {
      "cell_type": "code",
      "metadata": {
        "id": "BimyiZ1cdw75",
        "colab_type": "code",
        "outputId": "5f5578c1-4341-445b-e703-622e9034f59d",
        "colab": {
          "base_uri": "https://localhost:8080/",
          "height": 198
        }
      },
      "source": [
        "train_ctry2 = pd.DataFrame()\n",
        "#choose countries\n",
        "choose_list = ['US','Italy','Spain','Germany','France','Iran','UK','Switzerland','Netherland']\n",
        "\n",
        "for clist in choose_list:\n",
        "  train_ctry2 = train_ctry2.append(train_ctry[train_ctry.country==clist]).copy()\n",
        "\n",
        "train_ctry2.info()\n",
        "\n"
      ],
      "execution_count": 47,
      "outputs": [
        {
          "output_type": "stream",
          "text": [
            "<class 'pandas.core.frame.DataFrame'>\n",
            "Int64Index: 1876 entries, 0 to 14940\n",
            "Data columns (total 4 columns):\n",
            "Confirmed    1876 non-null float64\n",
            "Date         1876 non-null object\n",
            "Deaths       1876 non-null float64\n",
            "country      1876 non-null object\n",
            "dtypes: float64(2), object(2)\n",
            "memory usage: 73.3+ KB\n"
          ],
          "name": "stdout"
        },
        {
          "output_type": "execute_result",
          "data": {
            "text/html": [
              "<div>\n",
              "<style scoped>\n",
              "    .dataframe tbody tr th:only-of-type {\n",
              "        vertical-align: middle;\n",
              "    }\n",
              "\n",
              "    .dataframe tbody tr th {\n",
              "        vertical-align: top;\n",
              "    }\n",
              "\n",
              "    .dataframe thead th {\n",
              "        text-align: right;\n",
              "    }\n",
              "</style>\n",
              "<table border=\"1\" class=\"dataframe\">\n",
              "  <thead>\n",
              "    <tr style=\"text-align: right;\">\n",
              "      <th></th>\n",
              "      <th>Confirmed</th>\n",
              "      <th>Date</th>\n",
              "      <th>Deaths</th>\n",
              "      <th>country</th>\n",
              "    </tr>\n",
              "  </thead>\n",
              "  <tbody>\n",
              "  </tbody>\n",
              "</table>\n",
              "</div>"
            ],
            "text/plain": [
              "Empty DataFrame\n",
              "Columns: [Confirmed, Date, Deaths, country]\n",
              "Index: []"
            ]
          },
          "metadata": {
            "tags": []
          },
          "execution_count": 47
        }
      ]
    },
    {
      "cell_type": "code",
      "metadata": {
        "id": "BWfwJd6sd3Y5",
        "colab_type": "code",
        "colab": {
          "base_uri": "https://localhost:8080/",
          "height": 34
        },
        "outputId": "212223cd-0f77-4333-fc10-8b59359aed1d"
      },
      "source": [
        "total_countries = train_ctry2.country.unique().tolist()\n",
        "total_countries"
      ],
      "execution_count": 52,
      "outputs": [
        {
          "output_type": "execute_result",
          "data": {
            "text/plain": [
              "['US', 'Italy', 'Spain', 'Germany', 'France', 'Iran', 'Switzerland']"
            ]
          },
          "metadata": {
            "tags": []
          },
          "execution_count": 52
        }
      ]
    },
    {
      "cell_type": "markdown",
      "metadata": {
        "id": "oUhwKdnpVOvL",
        "colab_type": "text"
      },
      "source": [
        "##Choosing the top effected countries"
      ]
    },
    {
      "cell_type": "code",
      "metadata": {
        "id": "3xBeEWqfVjzc",
        "colab_type": "code",
        "colab": {
          "base_uri": "https://localhost:8080/",
          "height": 1000
        },
        "outputId": "1898593d-7a5b-4309-e5f9-b85ef41da035"
      },
      "source": [
        "final_top = pd.DataFrame()\n",
        "final_top_df = pd.DataFrame()\n",
        "for country in total_countries:\n",
        "  \n",
        "  train_fin = train_ctry.loc[train_ctry['country']==country].copy()\n",
        "  train_fin.drop(['country','Deaths'],axis = 1,inplace = True)\n",
        "  train_fin['Date'] = pd.to_datetime(train_fin['Date'])\n",
        "  train_fin = train_fin.set_index('Date') \n",
        "  train_fin2 = train_fin.loc[train_fin['Confirmed']>0].copy()\n",
        "  train_fin2.index.rename('ds', inplace=True)\n",
        "  train_fin2.rename(columns = {'Confirmed' : 'y'},inplace=True)\n",
        "  train_fin2.reset_index(level=0, inplace=True)\n",
        "  # instantiate the model and set parameters\n",
        "  model = Prophet(\n",
        "    interval_width=0.95,\n",
        "    growth='linear',\n",
        "    daily_seasonality=False,\n",
        "    weekly_seasonality=True,\n",
        "    yearly_seasonality=True,\n",
        "    seasonality_mode='multiplicative'\n",
        "  )\n",
        "  model.fit(train_fin2)\n",
        "  forecast_pdf = model.predict(future_pd)\n",
        "  print('Country: ' +country )\n",
        "  print(forecast_pdf[['ds', 'yhat', 'yhat_lower', 'yhat_upper']][(forecast_pdf['ds']>= '2020-03-24') & (forecast_pdf['ds']<= '2020-03-31')])\n",
        "  tmp_df = forecast_pdf[['ds', 'yhat', 'yhat_lower', 'yhat_upper']][(forecast_pdf['ds']>= '2020-03-24') & (forecast_pdf['ds']<= '2020-03-31')]\n",
        "  tmp_df['country'] = country\n",
        "  print('Maximum Predicted: ')\n",
        "  print(forecast_pdf.sort_values(by = 'yhat',ascending=False).iloc[1][['ds', 'yhat', 'yhat_lower', 'yhat_upper']])\n",
        "  train_final_countries_tmp = pd.DataFrame({'Date':forecast_pdf.ds ,'country':country, 'Highest Prediction':forecast_pdf.sort_values(by = 'yhat',ascending=False).iloc[1]['yhat']},index = [0])\n",
        "  print(train_final_countries_tmp)\n",
        "  final_top = final_top.append(train_final_countries_tmp)\n",
        "  final_top_df = final_top_df.append(tmp_df)"
      ],
      "execution_count": 53,
      "outputs": [
        {
          "output_type": "stream",
          "text": [
            "Country: US\n",
            "           ds           yhat     yhat_lower     yhat_upper\n",
            "54 2020-03-24   53761.472302   53476.746405   54028.268886\n",
            "55 2020-03-25   65595.179997   65330.790849   65857.034317\n",
            "56 2020-03-26   84038.683842   83754.686601   84326.049709\n",
            "57 2020-03-27  101871.058201  101596.906442  102138.467964\n",
            "58 2020-03-28  121266.813806  120991.795969  121528.045819\n",
            "59 2020-03-29  138921.650138  138536.578984  139401.872781\n",
            "Maximum Predicted: \n",
            "ds            2020-04-07 00:00:00\n",
            "yhat                       262361\n",
            "yhat_lower                 248398\n",
            "yhat_upper                 278871\n",
            "Name: 68, dtype: object\n",
            "        Date country  Highest Prediction\n",
            "0 2020-01-30      US        262361.41442\n",
            "Country: Italy\n",
            "           ds          yhat    yhat_lower    yhat_upper\n",
            "54 2020-03-24  69138.570091  68706.153634  69554.737411\n",
            "55 2020-03-25  74678.615792  74242.292076  75148.395597\n",
            "56 2020-03-26  80140.896706  79687.272193  80606.135882\n",
            "57 2020-03-27  86685.108193  86272.803897  87144.087795\n",
            "58 2020-03-28  92445.308068  92001.321901  92898.797518\n",
            "59 2020-03-29  96110.192164  95435.597346  96790.213645\n",
            "Maximum Predicted: \n",
            "ds            2020-04-04 00:00:00\n",
            "yhat                       101184\n",
            "yhat_lower                91644.4\n",
            "yhat_upper                 110651\n",
            "Name: 65, dtype: object\n",
            "        Date country  Highest Prediction\n",
            "0 2020-01-30   Italy       101183.927934\n",
            "Country: Spain\n",
            "           ds          yhat    yhat_lower    yhat_upper\n",
            "54 2020-03-24  40163.045955  39674.114400  40651.199927\n",
            "55 2020-03-25  49253.854002  48780.213598  49726.578380\n",
            "56 2020-03-26  57779.104077  57304.620717  58283.001122\n",
            "57 2020-03-27  65456.223385  65007.025577  65913.001965\n",
            "58 2020-03-28  73476.735086  72967.571624  73906.991347\n",
            "59 2020-03-29  80153.846328  79590.351345  80702.550869\n",
            "Maximum Predicted: \n",
            "ds            2020-05-16 00:00:00\n",
            "yhat                       176486\n",
            "yhat_lower                 135425\n",
            "yhat_upper                 214631\n",
            "Name: 107, dtype: object\n",
            "        Date country  Highest Prediction\n",
            "0 2020-01-30   Spain       176486.036779\n",
            "Country: Germany\n",
            "           ds          yhat    yhat_lower    yhat_upper\n",
            "54 2020-03-24  32862.003692  32663.348645  33070.205748\n",
            "55 2020-03-25  37375.263946  37163.178339  37610.695580\n",
            "56 2020-03-26  43815.319720  43594.779659  44033.096655\n",
            "57 2020-03-27  51159.366013  50942.511373  51374.191955\n",
            "58 2020-03-28  57544.115613  57315.836211  57764.393793\n",
            "59 2020-03-29  62907.048064  62652.849309  63161.562029\n",
            "Maximum Predicted: \n",
            "ds            2020-04-16 00:00:00\n",
            "yhat                       221774\n",
            "yhat_lower                 197082\n",
            "yhat_upper                 243571\n",
            "Name: 77, dtype: object\n",
            "        Date  country  Highest Prediction\n",
            "0 2020-01-30  Germany       221773.865815\n",
            "Country: France\n",
            "           ds          yhat    yhat_lower    yhat_upper\n",
            "54 2020-03-24  22585.982472  22399.678542  22770.830539\n",
            "55 2020-03-25  25599.442847  25407.071801  25800.204533\n",
            "56 2020-03-26  29515.953614  29328.213749  29705.040912\n",
            "57 2020-03-27  33504.554791  33321.426386  33691.720939\n",
            "58 2020-03-28  38048.227536  37862.199566  38222.607723\n",
            "59 2020-03-29  41707.248756  41499.639194  41944.821876\n",
            "Maximum Predicted: \n",
            "ds            2020-04-11 00:00:00\n",
            "yhat                      99748.2\n",
            "yhat_lower                91323.5\n",
            "yhat_upper                 108959\n",
            "Name: 72, dtype: object\n",
            "        Date country  Highest Prediction\n",
            "0 2020-01-30  France        99748.170894\n",
            "Country: Iran\n",
            "           ds          yhat    yhat_lower    yhat_upper\n",
            "54 2020-03-24  24815.040250  24736.746364  24888.921108\n",
            "55 2020-03-25  27034.958704  26964.453526  27107.892530\n",
            "56 2020-03-26  29373.688990  29299.453913  29451.107487\n",
            "57 2020-03-27  32355.328790  32280.459199  32427.918013\n",
            "58 2020-03-28  35400.591977  35326.699276  35473.578776\n",
            "59 2020-03-29  38703.621943  38403.378249  38953.307915\n",
            "Maximum Predicted: \n",
            "ds            2020-04-13 00:00:00\n",
            "yhat                       102323\n",
            "yhat_lower                71780.7\n",
            "yhat_upper                 132010\n",
            "Name: 74, dtype: object\n",
            "        Date country  Highest Prediction\n",
            "0 2020-01-30    Iran       102323.081792\n",
            "Country: Switzerland\n",
            "           ds          yhat    yhat_lower    yhat_upper\n",
            "54 2020-03-24   9906.745331   9811.199973   9995.898590\n",
            "55 2020-03-25  10834.190661  10739.885680  10935.228954\n",
            "56 2020-03-26  11837.668755  11739.501086  11936.841764\n",
            "57 2020-03-27  12938.522600  12842.079686  13039.170555\n",
            "58 2020-03-28  14071.131362  13981.010761  14166.180681\n",
            "59 2020-03-29  14028.273768  13771.199205  14258.028535\n",
            "Maximum Predicted: \n",
            "ds            2020-05-10 00:00:00\n",
            "yhat                        23645\n",
            "yhat_lower                1368.64\n",
            "yhat_upper                  45069\n",
            "Name: 101, dtype: object\n",
            "        Date      country  Highest Prediction\n",
            "0 2020-01-30  Switzerland        23645.024988\n"
          ],
          "name": "stdout"
        }
      ]
    },
    {
      "cell_type": "code",
      "metadata": {
        "id": "vCjY5hwaoUQQ",
        "colab_type": "code",
        "outputId": "eb01dc84-6405-4f0e-85eb-5d0d34944878",
        "colab": {
          "base_uri": "https://localhost:8080/",
          "height": 254
        }
      },
      "source": [
        "pd.set_option('display.float_format', lambda x: '%.3f' % x)\n",
        "final_top.sort_values('Highest Prediction', ascending=False).reset_index()"
      ],
      "execution_count": 54,
      "outputs": [
        {
          "output_type": "execute_result",
          "data": {
            "text/html": [
              "<div>\n",
              "<style scoped>\n",
              "    .dataframe tbody tr th:only-of-type {\n",
              "        vertical-align: middle;\n",
              "    }\n",
              "\n",
              "    .dataframe tbody tr th {\n",
              "        vertical-align: top;\n",
              "    }\n",
              "\n",
              "    .dataframe thead th {\n",
              "        text-align: right;\n",
              "    }\n",
              "</style>\n",
              "<table border=\"1\" class=\"dataframe\">\n",
              "  <thead>\n",
              "    <tr style=\"text-align: right;\">\n",
              "      <th></th>\n",
              "      <th>index</th>\n",
              "      <th>Date</th>\n",
              "      <th>country</th>\n",
              "      <th>Highest Prediction</th>\n",
              "    </tr>\n",
              "  </thead>\n",
              "  <tbody>\n",
              "    <tr>\n",
              "      <th>0</th>\n",
              "      <td>0</td>\n",
              "      <td>2020-01-30</td>\n",
              "      <td>US</td>\n",
              "      <td>262361.414</td>\n",
              "    </tr>\n",
              "    <tr>\n",
              "      <th>1</th>\n",
              "      <td>0</td>\n",
              "      <td>2020-01-30</td>\n",
              "      <td>Germany</td>\n",
              "      <td>221773.866</td>\n",
              "    </tr>\n",
              "    <tr>\n",
              "      <th>2</th>\n",
              "      <td>0</td>\n",
              "      <td>2020-01-30</td>\n",
              "      <td>Spain</td>\n",
              "      <td>176486.037</td>\n",
              "    </tr>\n",
              "    <tr>\n",
              "      <th>3</th>\n",
              "      <td>0</td>\n",
              "      <td>2020-01-30</td>\n",
              "      <td>Iran</td>\n",
              "      <td>102323.082</td>\n",
              "    </tr>\n",
              "    <tr>\n",
              "      <th>4</th>\n",
              "      <td>0</td>\n",
              "      <td>2020-01-30</td>\n",
              "      <td>Italy</td>\n",
              "      <td>101183.928</td>\n",
              "    </tr>\n",
              "    <tr>\n",
              "      <th>5</th>\n",
              "      <td>0</td>\n",
              "      <td>2020-01-30</td>\n",
              "      <td>France</td>\n",
              "      <td>99748.171</td>\n",
              "    </tr>\n",
              "    <tr>\n",
              "      <th>6</th>\n",
              "      <td>0</td>\n",
              "      <td>2020-01-30</td>\n",
              "      <td>Switzerland</td>\n",
              "      <td>23645.025</td>\n",
              "    </tr>\n",
              "  </tbody>\n",
              "</table>\n",
              "</div>"
            ],
            "text/plain": [
              "   index       Date      country  Highest Prediction\n",
              "0      0 2020-01-30           US          262361.414\n",
              "1      0 2020-01-30      Germany          221773.866\n",
              "2      0 2020-01-30        Spain          176486.037\n",
              "3      0 2020-01-30         Iran          102323.082\n",
              "4      0 2020-01-30        Italy          101183.928\n",
              "5      0 2020-01-30       France           99748.171\n",
              "6      0 2020-01-30  Switzerland           23645.025"
            ]
          },
          "metadata": {
            "tags": []
          },
          "execution_count": 54
        }
      ]
    },
    {
      "cell_type": "markdown",
      "metadata": {
        "id": "gjgYVE3Y5c0l",
        "colab_type": "text"
      },
      "source": [
        "## Top 5 countries with highest upcoming Covid-19 cases.\n",
        "### Italy to be effected most\n"
      ]
    },
    {
      "cell_type": "code",
      "metadata": {
        "id": "2uaI1-UT3aJm",
        "colab_type": "code",
        "outputId": "4aff6223-4182-423b-a54c-0de71149fe20",
        "colab": {
          "base_uri": "https://localhost:8080/",
          "height": 195
        }
      },
      "source": [
        "final_top.sort_values('Highest Prediction', ascending=False).reset_index().head()"
      ],
      "execution_count": 55,
      "outputs": [
        {
          "output_type": "execute_result",
          "data": {
            "text/html": [
              "<div>\n",
              "<style scoped>\n",
              "    .dataframe tbody tr th:only-of-type {\n",
              "        vertical-align: middle;\n",
              "    }\n",
              "\n",
              "    .dataframe tbody tr th {\n",
              "        vertical-align: top;\n",
              "    }\n",
              "\n",
              "    .dataframe thead th {\n",
              "        text-align: right;\n",
              "    }\n",
              "</style>\n",
              "<table border=\"1\" class=\"dataframe\">\n",
              "  <thead>\n",
              "    <tr style=\"text-align: right;\">\n",
              "      <th></th>\n",
              "      <th>index</th>\n",
              "      <th>Date</th>\n",
              "      <th>country</th>\n",
              "      <th>Highest Prediction</th>\n",
              "    </tr>\n",
              "  </thead>\n",
              "  <tbody>\n",
              "    <tr>\n",
              "      <th>0</th>\n",
              "      <td>0</td>\n",
              "      <td>2020-01-30</td>\n",
              "      <td>US</td>\n",
              "      <td>262361.414</td>\n",
              "    </tr>\n",
              "    <tr>\n",
              "      <th>1</th>\n",
              "      <td>0</td>\n",
              "      <td>2020-01-30</td>\n",
              "      <td>Germany</td>\n",
              "      <td>221773.866</td>\n",
              "    </tr>\n",
              "    <tr>\n",
              "      <th>2</th>\n",
              "      <td>0</td>\n",
              "      <td>2020-01-30</td>\n",
              "      <td>Spain</td>\n",
              "      <td>176486.037</td>\n",
              "    </tr>\n",
              "    <tr>\n",
              "      <th>3</th>\n",
              "      <td>0</td>\n",
              "      <td>2020-01-30</td>\n",
              "      <td>Iran</td>\n",
              "      <td>102323.082</td>\n",
              "    </tr>\n",
              "    <tr>\n",
              "      <th>4</th>\n",
              "      <td>0</td>\n",
              "      <td>2020-01-30</td>\n",
              "      <td>Italy</td>\n",
              "      <td>101183.928</td>\n",
              "    </tr>\n",
              "  </tbody>\n",
              "</table>\n",
              "</div>"
            ],
            "text/plain": [
              "   index       Date  country  Highest Prediction\n",
              "0      0 2020-01-30       US          262361.414\n",
              "1      0 2020-01-30  Germany          221773.866\n",
              "2      0 2020-01-30    Spain          176486.037\n",
              "3      0 2020-01-30     Iran          102323.082\n",
              "4      0 2020-01-30    Italy          101183.928"
            ]
          },
          "metadata": {
            "tags": []
          },
          "execution_count": 55
        }
      ]
    },
    {
      "cell_type": "markdown",
      "metadata": {
        "id": "RpQfKR4R9IPk",
        "colab_type": "text"
      },
      "source": [
        "# Downloading the file"
      ]
    },
    {
      "cell_type": "code",
      "metadata": {
        "id": "bPBvPtWb5hkh",
        "colab_type": "code",
        "colab": {}
      },
      "source": [
        "from google.colab import files\n",
        "final_top_df.to_csv('Predicted Effected.csv')\n",
        "files.download('Predicted Effected.csv')"
      ],
      "execution_count": 0,
      "outputs": []
    },
    {
      "cell_type": "code",
      "metadata": {
        "id": "LRAha86dDVOz",
        "colab_type": "code",
        "colab": {}
      },
      "source": [
        ""
      ],
      "execution_count": 0,
      "outputs": []
    }
  ]
}